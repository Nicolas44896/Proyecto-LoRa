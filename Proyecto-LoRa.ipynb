{
 "cells": [
  {
   "metadata": {
    "collapsed": true,
    "ExecuteTime": {
     "end_time": "2025-06-26T01:12:49.226721Z",
     "start_time": "2025-06-26T01:12:49.223376Z"
    }
   },
   "cell_type": "code",
   "source": [
    "from doctest import testfile\n",
    "\n",
    "import numpy as np\n",
    "import matplotlib.pyplot as plt"
   ],
   "id": "initial_id",
   "outputs": [],
   "execution_count": 86
  },
  {
   "metadata": {},
   "cell_type": "markdown",
   "source": "## CODIFICADOR",
   "id": "2f20f185564d2101"
  },
  {
   "metadata": {
    "ExecuteTime": {
     "end_time": "2025-06-26T01:12:50.561438Z",
     "start_time": "2025-06-26T01:12:50.554927Z"
    }
   },
   "cell_type": "code",
   "source": [
    "#bits = [1, 0, 0, 1, 1, 1, 0, 0, 0, 1, 0, 1, 0, 0]\n",
    "#SF = 7\n",
    "#SF_Validos = [7, 8, 9, 10, 11, 12]\n",
    "\n",
    "def coder(bits, SF):\n",
    "    #Verificar si SF es valido\n",
    "    if SF not in SF_Validos:\n",
    "        raise ValueError(\"Invalido\")\n",
    "    #Verificar que la cantidad de bits sea multiplo del SF\n",
    "    if len(bits) % SF != 0:\n",
    "        raise ValueError(\"Numero de bits no es multiplo de SF\")\n",
    "\n",
    "       # Inicialización del vector de símbolos\n",
    "    N_simbolos = len(bits) // SF\n",
    "    s = np.zeros(N_simbolos, dtype=int)\n",
    "\n",
    "    # Implementación de la ecuación (1)\n",
    "    for i in range(N_simbolos):\n",
    "        for h in range(SF):\n",
    "            s[i] += bits[i * SF + h] * (2 ** h)\n",
    "\n",
    "    return s\n",
    "\n",
    "print(coder(bits, SF))"
   ],
   "id": "365323782c813830",
   "outputs": [
    {
     "name": "stdout",
     "output_type": "stream",
     "text": [
      "[57 20]\n"
     ]
    }
   ],
   "execution_count": 87
  },
  {
   "metadata": {},
   "cell_type": "markdown",
   "source": [
    "###  Ejemplo de codificación usando la Ecuación (1)\n",
    "\n",
    "#### Datos de entrada:\n",
    "\n",
    "- `bits = [1, 0, 0, 1, 1, 1, 0]`\n",
    "- `SF = 7`\n",
    "\n",
    "#### Desarrollo paso a paso:\n",
    "\n",
    "Agrupamos los 7 bits como un único símbolo, ya que `SF = 7`.\n",
    "\n",
    "$\\begin{aligned}\n",
    "s &= w_0 \\cdot 2^0 + w_1 \\cdot 2^1 + w_2 \\cdot 2^2 + w_3 \\cdot 2^3 + w_4 \\cdot 2^4 + w_5 \\cdot 2^5 + w_6 \\cdot 2^6 \\\\\n",
    "  &= 1 \\cdot 2^0 + 0 \\cdot 2^1 + 0 \\cdot 2^2 + 1 \\cdot 2^3 + 1 \\cdot 2^4 + 1 \\cdot 2^5 + 0 \\cdot 2^6 \\\\\n",
    "  &= 1 \\cdot 1 + 0 \\cdot 2 + 0 \\cdot 4 + 1 \\cdot 8 + 1 \\cdot 16 + 1 \\cdot 32 + 0 \\cdot 64 \\\\\n",
    "  &= 1 + 0 + 0 + 8 + 16 + 32 + 0 \\\\\n",
    "  &= 57\n",
    "\\end{aligned}$\n",
    "\n",
    "\n",
    "####  Resultado esperado:\n",
    "\n",
    "```python\n",
    "[57]\n"
   ],
   "id": "7288e90e398f8662"
  },
  {
   "metadata": {},
   "cell_type": "markdown",
   "source": "## DECODIFICADOR",
   "id": "c5f23d80aa1d66c"
  },
  {
   "metadata": {
    "ExecuteTime": {
     "end_time": "2025-06-26T01:12:52.975080Z",
     "start_time": "2025-06-26T01:12:52.969494Z"
    }
   },
   "cell_type": "code",
   "source": [
    "def decoder(s, SF):\n",
    "    # Verificar que SF sea válido\n",
    "    if SF not in SF_Validos:\n",
    "        raise ValueError(\"SF inválido\")\n",
    "\n",
    "    bits_recuperados = []\n",
    "\n",
    "    # Por cada símbolo, reconstruir los SF bits\n",
    "    for simbolo in s:\n",
    "        #bits_simbolos=[]\n",
    "        for h in range(SF):\n",
    "            # Obtener el bit de orden h (menos significativo primero)\n",
    "            bit = (simbolo >> h) & 1\n",
    "            bits_recuperados.append(bit)\n",
    "        #bits_recuperados.append(bits_simbolos)\n",
    "\n",
    "    return bits_recuperados\n",
    "print(decoder([57,20], 7))"
   ],
   "id": "56f0b3f9d8a417cf",
   "outputs": [
    {
     "name": "stdout",
     "output_type": "stream",
     "text": [
      "[1, 0, 0, 1, 1, 1, 0, 0, 0, 1, 0, 1, 0, 0]\n"
     ]
    }
   ],
   "execution_count": 88
  },
  {
   "metadata": {},
   "cell_type": "markdown",
   "source": [
    "### Decodificación manual del símbolo (Ecuación inversa de la codificación)\n",
    "\n",
    "#### Dato recibido:\n",
    "\n",
    "- Símbolo codificado: `s = 57`\n",
    "- Spreading Factor: `SF = 7`\n",
    "\n",
    "Queremos obtener los 7 bits originales que generaron este símbolo.\n",
    "\n",
    "\n",
    "#### Desarrollo paso a paso:\n",
    "\n",
    "| h (posición del bit) | Cálculo                          | Resultado `w_h` |\n",
    "|----------------------|----------------------------------|-----------------|\n",
    "| 0                    | \\( (57 >> 0) \\& 1 = 57 \\& 1 \\)   | 1               |\n",
    "| 1                    | \\( (57 >> 1) \\& 1 = 28 \\& 1 \\)   | 0               |\n",
    "| 2                    | \\( (57 >> 2) \\& 1 = 14 \\& 1 \\)   | 0               |\n",
    "| 3                    | \\( (57 >> 3) \\& 1 = 7 \\& 1 \\)    | 1               |\n",
    "| 4                    | \\( (57 >> 4) \\& 1 = 3 \\& 1 \\)    | 1               |\n",
    "| 5                    | \\( (57 >> 5) \\& 1 = 1 \\& 1 \\)    | 1               |\n",
    "| 6                    | \\( (57 >> 6) \\& 1 = 0 \\& 1 \\)    | 0               |\n",
    "\n"
   ],
   "id": "305060b7abf9d03b"
  },
  {
   "metadata": {
    "ExecuteTime": {
     "end_time": "2025-06-26T01:12:55.186739Z",
     "start_time": "2025-06-26T01:12:55.180604Z"
    }
   },
   "cell_type": "code",
   "source": [
    "bit_randoms=np.random.randint(0,2,14)\n",
    "Codificador = coder(bit_randoms, 7)\n",
    "Decodificados = decoder(Codificador, 7)\n",
    "\n",
    "def errores(lista1, lista2):\n",
    "\n",
    "    error=0\n",
    "    for i,j in zip(lista1, lista2):\n",
    "        if (i != j):\n",
    "            error+=1\n",
    "    return error\n",
    "\n",
    "def ber(bits_tx,bits_rx):\n",
    "    BER=errores(bits_tx,bits_rx)/len(bit_randoms)\n",
    "    return BER\n",
    "\n",
    "print(ber(bit_randoms,Decodificados))"
   ],
   "id": "128038ecc49841d8",
   "outputs": [
    {
     "name": "stdout",
     "output_type": "stream",
     "text": [
      "0.0\n"
     ]
    }
   ],
   "execution_count": 89
  },
  {
   "metadata": {},
   "cell_type": "markdown",
   "source": "### Waveformer Former",
   "id": "26341c1aa4f953a"
  },
  {
   "metadata": {
    "ExecuteTime": {
     "end_time": "2025-06-26T01:12:56.595889Z",
     "start_time": "2025-06-26T01:12:56.591302Z"
    }
   },
   "cell_type": "code",
   "source": [
    "\n",
    "def waveform_former(s, SF):\n",
    "    M = 2 ** SF  # cantidad de muestras por chirp\n",
    "    chirps = []\n",
    "\n",
    "    for simbolo in s:\n",
    "        k = np.arange(M)\n",
    "        fase = ((simbolo + k) % M) * k / M\n",
    "        chirp = (1 / np.sqrt(M)) * np.exp(1j * 2 * np.pi * fase)\n",
    "        chirps.append(chirp)\n",
    "\n",
    "    return np.array(chirps)  # matriz [N x M]\n",
    "\n",
    "\n"
   ],
   "id": "3fbf8b65e8910e26",
   "outputs": [],
   "execution_count": 90
  },
  {
   "metadata": {
    "ExecuteTime": {
     "end_time": "2025-06-26T01:34:08.820583Z",
     "start_time": "2025-06-26T01:34:08.689630Z"
    }
   },
   "cell_type": "code",
   "source": [
    "\n",
    " # Generar un chirp para símbolo 57\n",
    "SF = 7\n",
    "chirp = waveform_former([57], SF)[0]\n",
    "\n",
    "# Calcular fase y frecuencia instantánea\n",
    "fase = np.unwrap(np.angle(chirp))\n",
    "frecuencia_inst = np.diff(fase) / (2 * np.pi)\n",
    "\n",
    "# Graficar\n",
    "plt.figure(figsize=(10, 3))\n",
    "plt.plot(frecuencia_inst)\n",
    "plt.title(\"Frecuencia Instantánea del Chirp (símbolo 57)\")\n",
    "plt.xlabel(\"Muestras\")\n",
    "plt.ylabel(\"Frecuencia [ciclos/muestra]\")\n",
    "plt.grid(True)\n",
    "plt.show()"
   ],
   "id": "36dab168b18be254",
   "outputs": [
    {
     "data": {
      "text/plain": [
       "<Figure size 1000x300 with 1 Axes>"
      ],
      "image/png": "[encoded data removed]"
     },
     "metadata": {},
     "output_type": "display_data"
    }
   ],
   "execution_count": 112
  },
  {
   "metadata": {},
   "cell_type": "markdown",
   "source": [
    "##  Waveform Former\n",
    "\n",
    "###  Ecuación (2) del paper de Vangelista\n",
    "\n",
    "La señal modulada transmitida para un símbolo $\\begin{aligned}( s(nT_s) \\in \\{0, 1, \\dots, 2^{SF} - 1\\}) \\end{aligned}$, según la Ecuación (2) del paper, se define como:\n",
    "\n",
    "\n",
    "\n",
    "$\\begin{aligned}\n",
    "c(nT_s + kT) = \\frac{1}{\\sqrt{2^{SF}}} \\cdot e^{j2\\pi \\cdot \\left[ \\frac{(s(nT_s) + k) \\bmod 2^{SF} \\cdot k}{2^{SF}} \\right]}\n",
    "\\quad \\text{para } k = 0, 1, \\dots, 2^{SF}-1\n",
    "\\end{aligned}$\n",
    "\n",
    "Donde:\n",
    "- $\\begin{aligned} SF \\end{aligned}$: Spreading Factor.\n",
    "- $\\begin{aligned} s(nT_s)\\end{aligned}$: símbolo entero codificado (de 0 a \\(2^{SF}-1\\)).\n",
    "- $\\begin{aligned} k \\end{aligned}$: índice de muestra temporal (discreto).\n",
    "- $\\begin{aligned} c(nT_s + kT) \\end{aligned}$: muestra compleja de la forma de onda LoRa transmitida.\n",
    "\n",
    "Esta señal es un \"chirp\" modulado en frecuencia, cuya frecuencia instantánea varía linealmente.\n",
    "\n",
    "\n"
   ],
   "id": "cbc783633934b12f"
  },
  {
   "metadata": {},
   "cell_type": "markdown",
   "source": "### n-Tuple Former",
   "id": "12812d01f66366fd"
  },
  {
   "metadata": {
    "ExecuteTime": {
     "end_time": "2025-06-26T01:24:45.589746Z",
     "start_time": "2025-06-26T01:24:45.585368Z"
    }
   },
   "cell_type": "code",
   "source": [
    "def n_tuple_former(received_chirps, SF):\n",
    "    M = 2 ** SF\n",
    "    k = np.arange(M)\n",
    "    downchirp = (1 / np.sqrt(M)) * np.exp(-1j * 2 * np.pi * k**2 / M)\n",
    "\n",
    "    simbolos_estimados = []\n",
    "    for chirp in received_chirps:\n",
    "        producto = chirp * downchirp\n",
    "        fft_producto = np.fft.fft(producto) #Es la Transformada Rápida de Fourier (FFT) en NumPy\n",
    "        simbolo_estimado = np.argmax(np.abs(fft_producto))\n",
    "        simbolos_estimados.append(simbolo_estimado)\n",
    "\n",
    "    return np.array(simbolos_estimados)\n"
   ],
   "id": "c5eacef02985f5ba",
   "outputs": [],
   "execution_count": 102
  },
  {
   "metadata": {},
   "cell_type": "markdown",
   "source": [
    "##  n-Tuple Former — Receptor Óptimo\n",
    "\n",
    "###  Descripción Teórica (Sección III del paper de Vangelista)\n",
    "\n",
    "La detección del símbolo transmitido se realiza aplicando un correlador discreto implementado como un receptor óptimo (n-Tuple Former). El procedimiento consiste en:\n",
    "\n",
    "1. Multiplicar el chirp recibido por una señal conjugada de referencia conocida como \"downchirp\":\n",
    "   $\\begin{aligned}\n",
    "   d(k) = e^{-j2\\pi \\cdot \\frac{k^2}{2^{SF}}}\n",
    "   \\end{aligned}$\n",
    "2. Aplicar una Transformada Rápida de Fourier (FFT) al producto.\n",
    "3. Detectar el símbolo como el índice del valor máximo del espectro resultante.\n",
    "\n",
    "\n",
    "###  Análisis Matemático\n",
    "\n",
    "Para cada chirp recibido $\\begin{aligned} r(k) \\end{aligned}$, se realiza:\n",
    "\n",
    "$\\begin{aligned}\n",
    "d(k) &= r(k) \\cdot e^{-j2\\pi \\cdot \\frac{k^2}{2^{SF}}} \\\\\n",
    "R(f) &= \\text{FFT}\\left\\{ d(k) \\right\\} \\\\\n",
    "\\hat{s} &= \\arg \\max_{f} \\left| R(f) \\right|\n",
    "\\end{aligned}$\n",
    "\n",
    "Donde:\n",
    "- $\\begin{aligned} r(k) \\end{aligned}$: chirp recibido de longitud $\\begin{aligned} M = 2^{SF} \\end{aligned}$\n",
    "- $\\begin{aligned} d(k) \\end{aligned}$: señal desmodulada en base al downchirp\n",
    "- $\\begin{aligned} R(f) \\end{aligned}$: transformada espectral\n",
    "- $\\begin{aligned} \\hat{s} \\end{aligned}$: símbolo estimado\n",
    "\n",
    "Este proceso actúa como un **correlador en frecuencia**, donde cada símbolo posible produce un pico en una posición distinta del espectro. El símbolo transmitido es el que **mejor correlaciona** con el chirp recibido.\n",
    "\n"
   ],
   "id": "8388bf90b0864ce5"
  },
  {
   "metadata": {
    "ExecuteTime": {
     "end_time": "2025-06-26T01:24:49.203631Z",
     "start_time": "2025-06-26T01:24:49.198886Z"
    }
   },
   "cell_type": "code",
   "source": [
    "# Definimos funciones de utilidad\n",
    "def errores_simbolos(s_tx, s_rx):\n",
    "    #Cuenta cuántos símbolos difieren entre dos listas\n",
    "    error = 0\n",
    "    for i, j in zip(s_tx, s_rx):\n",
    "        if i != j:\n",
    "            error += 1\n",
    "    return error\n",
    "\n",
    "def ser(s_tx, s_rx):\n",
    "    #\n",
    "    return errores_simbolos(s_tx, s_rx) / len(s_tx)\n"
   ],
   "id": "1cb79bf87c1b5b81",
   "outputs": [],
   "execution_count": 103
  },
  {
   "metadata": {
    "ExecuteTime": {
     "end_time": "2025-06-26T01:31:05.582286Z",
     "start_time": "2025-06-26T01:31:05.575387Z"
    }
   },
   "cell_type": "code",
   "source": [
    "SF = 7\n",
    "bit_randoms = np.random.randint(0, 2, SF * 2)  # 2 símbolos\n",
    "\n",
    "# Transmisor\n",
    "s_tx = coder(bit_randoms, SF)\n",
    "chirps_tx = waveform_former(s_tx, SF)\n",
    "\n",
    "# Receptor (sin canal)\n",
    "s_rx = n_tuple_former(chirps_tx, SF)\n",
    "\n",
    "# Calcular SER\n",
    "print(\"Símbolos transmitidos:\", s_tx[:10])\n",
    "print(\"Símbolos decodificados:\", s_rx[:10])\n",
    "print(\"SER:\", ser(s_tx, s_rx))"
   ],
   "id": "714b32cba944a7bc",
   "outputs": [
    {
     "name": "stdout",
     "output_type": "stream",
     "text": [
      "Símbolos transmitidos: [94 27]\n",
      "Símbolos decodificados: [94 27]\n",
      "SER: 0.0\n"
     ]
    }
   ],
   "execution_count": 109
  },
  {
   "metadata": {},
   "cell_type": "markdown",
   "source": "### Implementación del ruido AWGN",
   "id": "aaf793543cfa3081"
  },
  {
   "metadata": {
    "ExecuteTime": {
     "end_time": "2025-06-26T01:30:59.050920Z",
     "start_time": "2025-06-26T01:30:59.046644Z"
    }
   },
   "cell_type": "code",
   "source": [
    "def energia_promedio_chirp(chirps):\n",
    "    return np.mean(np.sum(np.abs(chirps)**2, axis=1))"
   ],
   "id": "b76aa281a4b1d07e",
   "outputs": [],
   "execution_count": 108
  },
  {
   "metadata": {
    "ExecuteTime": {
     "end_time": "2025-06-26T01:34:10.742883Z",
     "start_time": "2025-06-26T01:34:10.738321Z"
    }
   },
   "cell_type": "code",
   "source": [
    "def agregar_ruido_AWGN(chirps, SNR_dB):\n",
    "    #M = chirps.shape[1]  # cantidad de muestras por chirp\n",
    "    SNR_linear = 10**(SNR_dB / 10)\n",
    "\n",
    "    Es = energia_promedio_chirp(chirps)\n",
    "    sigma2 = Es / (2 * SNR_linear)\n",
    "\n",
    "    ruido = np.sqrt(sigma2) * (np.random.randn(*chirps.shape) + 1j * np.random.randn(*chirps.shape))\n",
    "    return chirps + ruido"
   ],
   "id": "f9e7bc6f6f729d7b",
   "outputs": [],
   "execution_count": 113
  },
  {
   "metadata": {},
   "cell_type": "markdown",
   "source": [
    "## 🧪 Canal con Ruido AWGN y Curva BER/SER\n",
    "\n",
    "### AWGN (Additive White Gaussian Noise)\n",
    "Según la Sección IV del paper, el sistema puede ser evaluado bajo un modelo de canal con ruido aditivo blanco gaussiano complejo (AWGN)**.\n",
    "Es un modelo de canal donde el ruido se suma a la señal transmitida:\n",
    "- Media: 0\n",
    "- Varianza: σ² = Eₛ / (2·SNRₗᵢₙₑₐᵣ)\n",
    "\n",
    "Donde:\n",
    "\n",
    "$\\begin{aligned}\n",
    "\\text{SNR}_{\\text{linear}} = 10^{\\frac{\\text{SNR}_{dB}}{10}}, \\quad\n",
    "\\sigma^2 = \\frac{E_s}{2 \\cdot \\text{SNR}_{\\text{linear}}}\n",
    "\\end{aligned}$\n",
    "\n",
    "\n",
    "\n",
    "### Procedimiento:\n",
    "1. Se genera una señal chirp (modulada) por símbolo.\n",
    "2. Se suma ruido Gaussiano complejo a la señal transmitida.\n",
    "3. Se decodifica usando n-Tuple Former + FFT.\n",
    "4. Se comparan los símbolos y bits originales con los decodificados.\n",
    "5. Se calcula y grafica:\n",
    "   - **BER**: tasa de error de bit.\n",
    "   - **SER**: tasa de error de símbolo."
   ],
   "id": "8b80afb802188150"
  },
  {
   "metadata": {
    "ExecuteTime": {
     "end_time": "2025-06-26T01:39:19.668347Z",
     "start_time": "2025-06-26T01:39:16.261500Z"
    }
   },
   "cell_type": "code",
   "source": [
    "# SIMULACIÓN\n",
    "SF = 7\n",
    "N_SIMBOLOS = 10000\n",
    "SNR_dBs = np.arange(-12, 1, 2)\n",
    "BERs, SERs = [], []\n",
    "\n",
    "bit_randoms = np.random.randint(0, 2, SF * N_SIMBOLOS)\n",
    "s_tx = coder(bit_randoms, SF)\n",
    "chirps_tx = waveform_former(s_tx, SF)\n",
    "\n",
    "for SNR in SNR_dBs:\n",
    "    chirps_noisy = agregar_ruido_AWGN(chirps_tx, SNR)\n",
    "    s_rx = n_tuple_former(chirps_noisy, SF)\n",
    "    bits_rx = decoder(s_rx, SF)\n",
    "    BERs.append(ber(bit_randoms, bits_rx))\n",
    "    SERs.append(ser(s_tx, s_rx))\n",
    "    print(f\"SNR = {SNR:>3} dB → BER = {BERs[-1]:.5f}, SER = {SERs[-1]:.5f}\")\n",
    "\n",
    "# GRÁFICO\n",
    "plt.figure(figsize=(8, 5))\n",
    "plt.semilogy(SNR_dBs, BERs, 'o-', label='BER')\n",
    "plt.semilogy(SNR_dBs, SERs, 's--', label='SER')\n",
    "plt.grid(True, which='both')\n",
    "plt.xlabel(\"SNR [dB]\")\n",
    "plt.ylabel(\"Tasa de error (log)\")\n",
    "plt.title(\"Curva BER y SER vs SNR — Flat FSCM (LoRa)\")\n",
    "plt.legend()\n",
    "plt.tight_layout()\n",
    "plt.show()"
   ],
   "id": "12422a910bb3531",
   "outputs": [
    {
     "name": "stdout",
     "output_type": "stream",
     "text": [
      "SNR = -12 dB → BER = 0.50147, SER = 0.99100\n",
      "SNR = -10 dB → BER = 0.49877, SER = 0.98720\n",
      "SNR =  -8 dB → BER = 0.49724, SER = 0.98730\n",
      "SNR =  -6 dB → BER = 0.49421, SER = 0.98340\n",
      "SNR =  -4 dB → BER = 0.48874, SER = 0.97480\n",
      "SNR =  -2 dB → BER = 0.48594, SER = 0.96010\n",
      "SNR =   0 dB → BER = 0.47406, SER = 0.93480\n"
     ]
    },
    {
     "data": {
      "text/plain": [
       "<Figure size 800x500 with 1 Axes>"
      ],
      "image/png": "[encoded data removed]"
     },
     "metadata": {},
     "output_type": "display_data"
    }
   ],
   "execution_count": 115
  }
 ],
 "metadata": {
  "kernelspec": {
   "display_name": "Python 3",
   "language": "python",
   "name": "python3"
  },
  "language_info": {
   "codemirror_mode": {
    "name": "ipython",
    "version": 2
   },
   "file_extension": ".py",
   "mimetype": "text/x-python",
   "name": "python",
   "nbconvert_exporter": "python",
   "pygments_lexer": "ipython2",
   "version": "2.7.6"
  }
 },
 "nbformat": 4,
 "nbformat_minor": 5
}
