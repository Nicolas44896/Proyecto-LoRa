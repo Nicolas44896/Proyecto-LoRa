{
 "cells": [
  {
   "metadata": {
    "collapsed": true,
    "ExecuteTime": {
     "end_time": "2025-06-24T00:10:40.291300Z",
     "start_time": "2025-06-24T00:10:40.164626Z"
    }
   },
   "cell_type": "code",
   "source": "import numpy as np",
   "id": "initial_id",
   "outputs": [],
   "execution_count": 1
  },
  {
   "metadata": {},
   "cell_type": "markdown",
   "source": "## CODIFICADOR",
   "id": "2f20f185564d2101"
  },
  {
   "metadata": {
    "ExecuteTime": {
     "end_time": "2025-06-24T00:10:40.319787Z",
     "start_time": "2025-06-24T00:10:40.313295Z"
    }
   },
   "cell_type": "code",
   "source": [
    "#bits = [1, 0, 0, 1, 1, 1, 0]\n",
    "#SF = 7\n",
    "SF_Validos = [7, 8, 9, 10, 11, 12]\n",
    "\n",
    "def coder(bits, SF):\n",
    "    #Verificar si SF es valido\n",
    "    if SF not in SF_Validos:\n",
    "        raise ValueError(\"Invalido\")\n",
    "    #Verificar que la cantidad de bits sea multiplo del SF\n",
    "    if len(bits) % SF != 0:\n",
    "        raise ValueError(\"Numero de bits no es multiplo de SF\")\n",
    "\n",
    "       # Inicialización del vector de símbolos\n",
    "    N_simbolos = len(bits) // SF   #División entera para obtener el número de símbolos\n",
    "    s = np.zeros(N_simbolos, dtype=int)\n",
    "\n",
    "    # Implementación de la ecuación (1)\n",
    "    for i in range(N_simbolos):\n",
    "        for h in range(SF):\n",
    "            s[i] += bits[i * SF + h] * (2 ** h)\n",
    "\n",
    "    return s\n",
    "\n",
    "#print(coder(bits, SF))"
   ],
   "id": "365323782c813830",
   "outputs": [],
   "execution_count": 2
  },
  {
   "metadata": {},
   "cell_type": "markdown",
   "source": [
    "###  Ejemplo de codificación usando la Ecuación (1)\n",
    "\n",
    "#### Datos de entrada:\n",
    "\n",
    "- `bits = [1, 0, 0, 1, 1, 1, 0]`\n",
    "- `SF = 7`\n",
    "\n",
    "#### Desarrollo paso a paso:\n",
    "\n",
    "Agrupamos los 7 bits como un único símbolo, ya que `SF = 7`.\n",
    "\n",
    "$\\begin{aligned}\n",
    "s &= w_0 \\cdot 2^0 + w_1 \\cdot 2^1 + w_2 \\cdot 2^2 + w_3 \\cdot 2^3 + w_4 \\cdot 2^4 + w_5 \\cdot 2^5 + w_6 \\cdot 2^6 \\\\\n",
    "  &= 1 \\cdot 2^0 + 0 \\cdot 2^1 + 0 \\cdot 2^2 + 1 \\cdot 2^3 + 1 \\cdot 2^4 + 1 \\cdot 2^5 + 0 \\cdot 2^6 \\\\\n",
    "  &= 1 \\cdot 1 + 0 \\cdot 2 + 0 \\cdot 4 + 1 \\cdot 8 + 1 \\cdot 16 + 1 \\cdot 32 + 0 \\cdot 64 \\\\\n",
    "  &= 1 + 0 + 0 + 8 + 16 + 32 + 0 \\\\\n",
    "  &= 57\n",
    "\\end{aligned}$\n",
    "\n",
    "\n",
    "####  Resultado esperado:\n",
    "\n",
    "```python\n",
    "[57]\n"
   ],
   "id": "7288e90e398f8662"
  },
  {
   "metadata": {},
   "cell_type": "markdown",
   "source": "## DECODIFICADOR",
   "id": "c5f23d80aa1d66c"
  },
  {
   "metadata": {
    "ExecuteTime": {
     "end_time": "2025-06-24T01:08:06.513596Z",
     "start_time": "2025-06-24T01:08:06.506900Z"
    }
   },
   "cell_type": "code",
   "source": [
    "def decoder(s, SF):\n",
    "    # Verificar que SF sea válido\n",
    "    if SF not in SF_Validos:\n",
    "        raise ValueError(\"SF inválido\")\n",
    "\n",
    "    bits_recuperados = []\n",
    "\n",
    "    # Por cada símbolo, reconstruir los SF bits\n",
    "    for simbolo in s:\n",
    "        #bits_simbolos = []\n",
    "        for h in range(SF):\n",
    "            # Obtener el bit de orden h (menos significativo primero)\n",
    "            bit = (simbolo >> h) & 1\n",
    "            bits_recuperados.append(bit)\n",
    "        #bits_recuperados.append(bits_simbolos)\n",
    "\n",
    "    return bits_recuperados\n",
    "print(decoder([57, 20], 7))"
   ],
   "id": "56f0b3f9d8a417cf",
   "outputs": [
    {
     "name": "stdout",
     "output_type": "stream",
     "text": [
      "[1, 0, 0, 1, 1, 1, 0, 0, 0, 1, 0, 1, 0, 0]\n"
     ]
    }
   ],
   "execution_count": 30
  },
  {
   "metadata": {},
   "cell_type": "markdown",
   "source": [
    "### Decodificación manual del símbolo (Ecuación inversa de la codificación)\n",
    "\n",
    "#### Dato recibido:\n",
    "\n",
    "- Símbolo codificado: `s = 57`\n",
    "- Spreading Factor: `SF = 7`\n",
    "\n",
    "Queremos obtener los 7 bits originales que generaron este símbolo.\n",
    "\n",
    "\n",
    "#### Desarrollo paso a paso:\n",
    "\n",
    "| h (posición del bit) | Cálculo                          | Resultado `w_h` |\n",
    "|----------------------|----------------------------------|-----------------|\n",
    "| 0                    | \\( (57 >> 0) \\& 1 = 57 \\& 1 \\)   | 1               |\n",
    "| 1                    | \\( (57 >> 1) \\& 1 = 28 \\& 1 \\)   | 0               |\n",
    "| 2                    | \\( (57 >> 2) \\& 1 = 14 \\& 1 \\)   | 0               |\n",
    "| 3                    | \\( (57 >> 3) \\& 1 = 7 \\& 1 \\)    | 1               |\n",
    "| 4                    | \\( (57 >> 4) \\& 1 = 3 \\& 1 \\)    | 1               |\n",
    "| 5                    | \\( (57 >> 5) \\& 1 = 1 \\& 1 \\)    | 1               |\n",
    "| 6                    | \\( (57 >> 6) \\& 1 = 0 \\& 1 \\)    | 0               |\n",
    "\n"
   ],
   "id": "305060b7abf9d03b"
  },
  {
   "metadata": {
    "ExecuteTime": {
     "end_time": "2025-06-24T01:08:10.353649Z",
     "start_time": "2025-06-24T01:08:10.347329Z"
    }
   },
   "cell_type": "code",
   "source": [
    "bit_randoms=np.random.randint(0,2,14)\n",
    "Codificador = coder(bit_randoms, 7)\n",
    "Decodificados = decoder(Codificador, 7)\n",
    "\n",
    "def errores(lista1, lista2):\n",
    "\n",
    "    error=0\n",
    "    for i,j in zip(lista1, lista2):\n",
    "        if (i != j):\n",
    "            error+=1\n",
    "    return error\n",
    "\n",
    "def ber():\n",
    "    BER=errores(Decodificados,bit_randoms)/len(bit_randoms)\n",
    "    return BER\n",
    "\n",
    "print(ber())"
   ],
   "id": "a9a2ba86c9a22596",
   "outputs": [
    {
     "name": "stdout",
     "output_type": "stream",
     "text": [
      "0.0\n"
     ]
    }
   ],
   "execution_count": 31
  }
 ],
 "metadata": {
  "kernelspec": {
   "display_name": "Python 3",
   "language": "python",
   "name": "python3"
  },
  "language_info": {
   "codemirror_mode": {
    "name": "ipython",
    "version": 2
   },
   "file_extension": ".py",
   "mimetype": "text/x-python",
   "name": "python",
   "nbconvert_exporter": "python",
   "pygments_lexer": "ipython2",
   "version": "2.7.6"
  }
 },
 "nbformat": 4,
 "nbformat_minor": 5
}
