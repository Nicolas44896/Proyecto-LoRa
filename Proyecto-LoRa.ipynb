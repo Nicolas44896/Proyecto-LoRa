{
 "cells": [
  {
   "metadata": {
    "collapsed": true,
    "ExecuteTime": {
     "end_time": "2025-06-24T01:07:44.580319Z",
     "start_time": "2025-06-24T01:07:44.390606Z"
    }
   },
   "cell_type": "code",
   "source": [
    "from doctest import testfile\n",
    "\n",
    "import numpy as np"
   ],
   "id": "initial_id",
   "outputs": [],
   "execution_count": 2
  },
  {
   "metadata": {},
   "cell_type": "markdown",
   "source": "## CODIFICADOR",
   "id": "2f20f185564d2101"
  },
  {
   "metadata": {
    "ExecuteTime": {
     "end_time": "2025-06-24T01:08:57.221087Z",
     "start_time": "2025-06-24T01:08:57.215703Z"
    }
   },
   "cell_type": "code",
   "source": [
    "bits = [1, 0, 0, 1, 1, 1, 0, 0, 0, 1, 0, 1, 0, 0]\n",
    "SF = 7\n",
    "SF_Validos = [7, 8, 9, 10, 11, 12]\n",
    "\n",
    "def coder(bits, SF):\n",
    "    #Verificar si SF es valido\n",
    "    if SF not in SF_Validos:\n",
    "        raise ValueError(\"Invalido\")\n",
    "    #Verificar que la cantidad de bits sea multiplo del SF\n",
    "    if len(bits) % SF != 0:\n",
    "        raise ValueError(\"Numero de bits no es multiplo de SF\")\n",
    "\n",
    "       # Inicialización del vector de símbolos\n",
    "    N_simbolos = len(bits) // SF\n",
    "    s = np.zeros(N_simbolos, dtype=int)\n",
    "\n",
    "    # Implementación de la ecuación (1)\n",
    "    for i in range(N_simbolos):\n",
    "        for h in range(SF):\n",
    "            s[i] += bits[i * SF + h] * (2 ** h)\n",
    "\n",
    "    return s\n",
    "\n",
    "print(coder(bits, SF))"
   ],
   "id": "365323782c813830",
   "outputs": [
    {
     "name": "stdout",
     "output_type": "stream",
     "text": [
      "[57 20]\n"
     ]
    }
   ],
   "execution_count": 7
  },
  {
   "metadata": {},
   "cell_type": "markdown",
   "source": [
    "###  Ejemplo de codificación usando la Ecuación (1)\n",
    "\n",
    "#### Datos de entrada:\n",
    "\n",
    "- `bits = [1, 0, 0, 1, 1, 1, 0]`\n",
    "- `SF = 7`\n",
    "\n",
    "#### Desarrollo paso a paso:\n",
    "\n",
    "Agrupamos los 7 bits como un único símbolo, ya que `SF = 7`.\n",
    "\n",
    "$\\begin{aligned}\n",
    "s &= w_0 \\cdot 2^0 + w_1 \\cdot 2^1 + w_2 \\cdot 2^2 + w_3 \\cdot 2^3 + w_4 \\cdot 2^4 + w_5 \\cdot 2^5 + w_6 \\cdot 2^6 \\\\\n",
    "  &= 1 \\cdot 2^0 + 0 \\cdot 2^1 + 0 \\cdot 2^2 + 1 \\cdot 2^3 + 1 \\cdot 2^4 + 1 \\cdot 2^5 + 0 \\cdot 2^6 \\\\\n",
    "  &= 1 \\cdot 1 + 0 \\cdot 2 + 0 \\cdot 4 + 1 \\cdot 8 + 1 \\cdot 16 + 1 \\cdot 32 + 0 \\cdot 64 \\\\\n",
    "  &= 1 + 0 + 0 + 8 + 16 + 32 + 0 \\\\\n",
    "  &= 57\n",
    "\\end{aligned}$\n",
    "\n",
    "\n",
    "####  Resultado esperado:\n",
    "\n",
    "```python\n",
    "[57]\n"
   ],
   "id": "7288e90e398f8662"
  },
  {
   "metadata": {},
   "cell_type": "markdown",
   "source": "## DECODIFICADOR",
   "id": "c5f23d80aa1d66c"
  },
  {
   "metadata": {
    "ExecuteTime": {
     "end_time": "2025-06-24T01:09:35.724109Z",
     "start_time": "2025-06-24T01:09:35.719013Z"
    }
   },
   "cell_type": "code",
   "source": [
    "def decoder(s, SF):\n",
    "    # Verificar que SF sea válido\n",
    "    if SF not in SF_Validos:\n",
    "        raise ValueError(\"SF inválido\")\n",
    "\n",
    "    bits_recuperados = []\n",
    "\n",
    "    # Por cada símbolo, reconstruir los SF bits\n",
    "    for simbolo in s:\n",
    "        #bits_simbolos=[]\n",
    "        for h in range(SF):\n",
    "            # Obtener el bit de orden h (menos significativo primero)\n",
    "            bit = (simbolo >> h) & 1\n",
    "            bits_recuperados.append(bit)\n",
    "        #bits_recuperados.append(bits_simbolos)\n",
    "\n",
    "    return bits_recuperados\n",
    "print(decoder([57,20], 7))"
   ],
   "id": "56f0b3f9d8a417cf",
   "outputs": [
    {
     "name": "stdout",
     "output_type": "stream",
     "text": [
      "[1, 0, 0, 1, 1, 1, 0, 0, 0, 1, 0, 1, 0, 0]\n"
     ]
    }
   ],
   "execution_count": 12
  },
  {
   "metadata": {},
   "cell_type": "markdown",
   "source": [
    "### Decodificación manual del símbolo (Ecuación inversa de la codificación)\n",
    "\n",
    "#### Dato recibido:\n",
    "\n",
    "- Símbolo codificado: `s = 57`\n",
    "- Spreading Factor: `SF = 7`\n",
    "\n",
    "Queremos obtener los 7 bits originales que generaron este símbolo.\n",
    "\n",
    "\n",
    "#### Desarrollo paso a paso:\n",
    "\n",
    "| h (posición del bit) | Cálculo                          | Resultado `w_h` |\n",
    "|----------------------|----------------------------------|-----------------|\n",
    "| 0                    | \\( (57 >> 0) \\& 1 = 57 \\& 1 \\)   | 1               |\n",
    "| 1                    | \\( (57 >> 1) \\& 1 = 28 \\& 1 \\)   | 0               |\n",
    "| 2                    | \\( (57 >> 2) \\& 1 = 14 \\& 1 \\)   | 0               |\n",
    "| 3                    | \\( (57 >> 3) \\& 1 = 7 \\& 1 \\)    | 1               |\n",
    "| 4                    | \\( (57 >> 4) \\& 1 = 3 \\& 1 \\)    | 1               |\n",
    "| 5                    | \\( (57 >> 5) \\& 1 = 1 \\& 1 \\)    | 1               |\n",
    "| 6                    | \\( (57 >> 6) \\& 1 = 0 \\& 1 \\)    | 0               |\n",
    "\n"
   ],
   "id": "305060b7abf9d03b"
  },
  {
   "metadata": {
    "ExecuteTime": {
     "end_time": "2025-06-24T01:09:37.936233Z",
     "start_time": "2025-06-24T01:09:37.931142Z"
    }
   },
   "cell_type": "code",
   "source": [
    "bit_randoms=np.random.randint(0,2,14)\n",
    "Codificador = coder(bit_randoms, 7)\n",
    "Decodificados = decoder(Codificador, 7)\n",
    "\n",
    "def errores(lista1, lista2):\n",
    "\n",
    "    error=0\n",
    "    for i,j in zip(lista1, lista2):\n",
    "        if (i != j):\n",
    "            error+=1\n",
    "    return error\n",
    "\n",
    "def ber():\n",
    "    BER=errores(Decodificados,bit_randoms)/len(bit_randoms)\n",
    "    return BER\n",
    "\n",
    "print(ber())"
   ],
   "id": "128038ecc49841d8",
   "outputs": [
    {
     "name": "stdout",
     "output_type": "stream",
     "text": [
      "0.0\n"
     ]
    }
   ],
   "execution_count": 13
  },
  {
   "metadata": {},
   "cell_type": "markdown",
   "source": "### Waveformer Former",
   "id": "26341c1aa4f953a"
  },
  {
   "metadata": {
    "ExecuteTime": {
     "end_time": "2025-06-24T02:08:37.931860Z",
     "start_time": "2025-06-24T02:08:37.925043Z"
    }
   },
   "cell_type": "code",
   "source": [
    "def waveform_former(s, SF):\n",
    "    M = 2 ** SF  # cantidad de muestras por chirp\n",
    "    chirps = []\n",
    "\n",
    "    for simbolo in s:\n",
    "        k = np.arange(M)\n",
    "        fase = ((simbolo + k) % M) * k / M\n",
    "        chirp = (1 / np.sqrt(M)) * np.exp(1j * 2 * np.pi * fase)\n",
    "        chirps.append(chirp)\n",
    "\n",
    "    return np.array(chirps)  # matriz [N x M]\n",
    "\n",
    "\n"
   ],
   "id": "3fbf8b65e8910e26",
   "outputs": [
    {
     "name": "stdout",
     "output_type": "stream",
     "text": [
      "[[ 8.83883476e-02+0.00000000e+00j -7.99021199e-02+3.77908882e-02j\n",
      "   6.25000000e-02-6.25000000e-02j -4.54406921e-02+7.58132146e-02j\n",
      "   3.38247563e-02-8.16601853e-02j -2.97771375e-02+8.32215242e-02j\n",
      "   3.38247563e-02-8.16601853e-02j -4.54406921e-02+7.58132146e-02j\n",
      "   6.25000000e-02-6.25000000e-02j -7.99021199e-02+3.77908882e-02j\n",
      "   8.83883476e-02-1.08244507e-16j -7.58132146e-02-4.54406921e-02j\n",
      "   3.38247563e-02+8.16601853e-02j  2.97771375e-02-8.32215242e-02j\n",
      "  -8.16601853e-02+3.38247563e-02j  7.58132146e-02+4.54406921e-02j\n",
      "  -3.46437133e-16-8.83883476e-02j -7.99021199e-02+3.77908882e-02j\n",
      "   6.25000000e-02+6.25000000e-02j  4.54406921e-02-7.58132146e-02j\n",
      "  -8.16601853e-02-3.38247563e-02j -2.97771375e-02+8.32215242e-02j\n",
      "   8.16601853e-02+3.38247563e-02j  4.54406921e-02-7.58132146e-02j\n",
      "  -6.25000000e-02-6.25000000e-02j -7.99021199e-02+3.77908882e-02j\n",
      "   8.22822385e-16+8.83883476e-02j  7.58132146e-02+4.54406921e-02j\n",
      "   8.16601853e-02-3.38247563e-02j  2.97771375e-02-8.32215242e-02j\n",
      "  -3.38247563e-02-8.16601853e-02j -7.58132146e-02-4.54406921e-02j\n",
      "  -8.83883476e-02+7.79469872e-16j -7.99021199e-02+3.77908882e-02j\n",
      "  -6.25000000e-02+6.25000000e-02j -4.54406921e-02+7.58132146e-02j\n",
      "  -3.38247563e-02+8.16601853e-02j -2.97771375e-02+8.32215242e-02j\n",
      "  -3.38247563e-02+8.16601853e-02j -4.54406921e-02+7.58132146e-02j\n",
      "  -6.25000000e-02+6.25000000e-02j -7.99021199e-02+3.77908882e-02j\n",
      "  -8.83883476e-02-2.60115081e-16j -7.58132146e-02-4.54406921e-02j\n",
      "  -3.38247563e-02-8.16601853e-02j  2.97771375e-02-8.32215242e-02j\n",
      "   8.16601853e-02-3.38247563e-02j  7.58132146e-02+4.54406921e-02j\n",
      "   4.30242494e-17+8.83883476e-02j -7.99021199e-02+3.77908882e-02j\n",
      "  -6.25000000e-02-6.25000000e-02j  4.54406921e-02-7.58132146e-02j\n",
      "   8.16601853e-02+3.38247563e-02j -2.97771375e-02+8.32215242e-02j\n",
      "  -8.16601853e-02-3.38247563e-02j  4.54406921e-02-7.58132146e-02j\n",
      "   6.25000000e-02+6.25000000e-02j -7.99021199e-02+3.77908882e-02j\n",
      "  -1.25569099e-15-8.83883476e-02j  7.58132146e-02+4.54406921e-02j\n",
      "  -8.16601853e-02+3.38247563e-02j  2.97771375e-02-8.32215242e-02j\n",
      "   3.38247563e-02+8.16601853e-02j -7.58132146e-02-4.54406921e-02j\n",
      "   8.83883476e-02-1.90532217e-15j -7.99021199e-02+3.77908882e-02j\n",
      "   6.25000000e-02-6.25000000e-02j -4.54406921e-02+7.58132146e-02j\n",
      "   3.38247563e-02-8.16601853e-02j -2.97771375e-02+8.32215242e-02j\n",
      "   3.38247563e-02-8.16601853e-02j -4.54406921e-02+7.58132146e-02j\n",
      "   6.25000000e-02-6.25000000e-02j -7.99021199e-02+3.77908882e-02j\n",
      "   8.83883476e-02+0.00000000e+00j -7.58132146e-02-4.54406921e-02j\n",
      "   3.38247563e-02+8.16601853e-02j  2.97771375e-02-8.32215242e-02j\n",
      "  -8.16601853e-02+3.38247563e-02j  7.58132146e-02+4.54406921e-02j\n",
      "  -2.38192626e-16-8.83883476e-02j -7.99021199e-02+3.77908882e-02j\n",
      "   6.25000000e-02+6.25000000e-02j  4.54406921e-02-7.58132146e-02j\n",
      "  -8.16601853e-02-3.38247563e-02j -2.97771375e-02+8.32215242e-02j\n",
      "   8.16601853e-02+3.38247563e-02j  4.54406921e-02-7.58132146e-02j\n",
      "  -6.25000000e-02-6.25000000e-02j -7.99021199e-02+3.77908882e-02j\n",
      "   8.65408949e-17+8.83883476e-02j  7.58132146e-02+4.54406921e-02j\n",
      "   8.16601853e-02-3.38247563e-02j  2.97771375e-02-8.32215242e-02j\n",
      "  -3.38247563e-02-8.16601853e-02j -7.58132146e-02-4.54406921e-02j\n",
      "  -8.83883476e-02+4.31883815e-17j -7.99021199e-02+3.77908882e-02j\n",
      "  -6.25000000e-02+6.25000000e-02j -4.54406921e-02+7.58132146e-02j\n",
      "  -3.38247563e-02+8.16601853e-02j -2.97771375e-02+8.32215242e-02j\n",
      "  -3.38247563e-02+8.16601853e-02j -4.54406921e-02+7.58132146e-02j\n",
      "  -6.25000000e-02+6.25000000e-02j -7.99021199e-02+3.77908882e-02j\n",
      "  -8.83883476e-02+2.59677396e-16j -7.58132146e-02-4.54406921e-02j\n",
      "  -3.38247563e-02-8.16601853e-02j  2.97771375e-02-8.32215242e-02j\n",
      "   8.16601853e-02-3.38247563e-02j  7.58132146e-02+4.54406921e-02j\n",
      "   5.62816726e-16+8.83883476e-02j -7.99021199e-02+3.77908882e-02j\n",
      "  -6.25000000e-02-6.25000000e-02j  4.54406921e-02-7.58132146e-02j\n",
      "   8.16601853e-02+3.38247563e-02j -2.97771375e-02+8.32215242e-02j\n",
      "  -8.16601853e-02-3.38247563e-02j  4.54406921e-02-7.58132146e-02j\n",
      "   6.25000000e-02+6.25000000e-02j -7.99021199e-02+3.77908882e-02j\n",
      "  -1.77548347e-15-8.83883476e-02j  7.58132146e-02+4.54406921e-02j\n",
      "  -8.16601853e-02+3.38247563e-02j  2.97771375e-02-8.32215242e-02j\n",
      "   3.38247563e-02+8.16601853e-02j -7.58132146e-02-4.54406921e-02j]]\n"
     ]
    }
   ],
   "execution_count": 16
  },
  {
   "metadata": {},
   "cell_type": "markdown",
   "source": "### n-Tuple Former",
   "id": "12812d01f66366fd"
  },
  {
   "metadata": {},
   "cell_type": "code",
   "outputs": [],
   "execution_count": null,
   "source": [
    "def n_tuple_former(received_chirps, SF):\n",
    "    M = 2 ** SF\n",
    "    k = np.arange(M)\n",
    "    downchirp = np.exp(-1j * 2 * np.pi * k**2 / M)\n",
    "\n",
    "    simbolos_estimados = []\n",
    "    for chirp in received_chirps:\n",
    "        producto = chirp * downchirp\n",
    "        fft_producto = np.fft.fft(producto) #Es la Transformada Rápida de Fourier (FFT) en NumPy\n",
    "        simbolo_estimado = np.argmax(np.abs(fft_producto))\n",
    "        simbolos_estimados.append(simbolo_estimado)\n",
    "\n",
    "    return np.array(simbolos_estimados)\n"
   ],
   "id": "c5eacef02985f5ba"
  }
 ],
 "metadata": {
  "kernelspec": {
   "display_name": "Python 3",
   "language": "python",
   "name": "python3"
  },
  "language_info": {
   "codemirror_mode": {
    "name": "ipython",
    "version": 2
   },
   "file_extension": ".py",
   "mimetype": "text/x-python",
   "name": "python",
   "nbconvert_exporter": "python",
   "pygments_lexer": "ipython2",
   "version": "2.7.6"
  }
 },
 "nbformat": 4,
 "nbformat_minor": 5
}
