{
 "cells": [
  {
   "metadata": {
    "collapsed": true,
    "ExecuteTime": {
     "end_time": "2025-06-25T23:34:14.103157Z",
     "start_time": "2025-06-25T23:34:14.099898Z"
    }
   },
   "cell_type": "code",
   "source": [
    "from doctest import testfile\n",
    "\n",
    "import numpy as np\n",
    "import matplotlib.pyplot as plt"
   ],
   "id": "initial_id",
   "outputs": [],
   "execution_count": 48
  },
  {
   "metadata": {},
   "cell_type": "markdown",
   "source": "## CODIFICADOR",
   "id": "2f20f185564d2101"
  },
  {
   "metadata": {
    "ExecuteTime": {
     "end_time": "2025-06-25T23:34:15.833024Z",
     "start_time": "2025-06-25T23:34:15.826674Z"
    }
   },
   "cell_type": "code",
   "source": [
    "bits = [1, 0, 0, 1, 1, 1, 0, 0, 0, 1, 0, 1, 0, 0]\n",
    "SF = 7\n",
    "SF_Validos = [7, 8, 9, 10, 11, 12]\n",
    "\n",
    "def coder(bits, SF):\n",
    "    #Verificar si SF es valido\n",
    "    if SF not in SF_Validos:\n",
    "        raise ValueError(\"Invalido\")\n",
    "    #Verificar que la cantidad de bits sea multiplo del SF\n",
    "    if len(bits) % SF != 0:\n",
    "        raise ValueError(\"Numero de bits no es multiplo de SF\")\n",
    "\n",
    "       # Inicialización del vector de símbolos\n",
    "    N_simbolos = len(bits) // SF\n",
    "    s = np.zeros(N_simbolos, dtype=int)\n",
    "\n",
    "    # Implementación de la ecuación (1)\n",
    "    for i in range(N_simbolos):\n",
    "        for h in range(SF):\n",
    "            s[i] += bits[i * SF + h] * (2 ** h)\n",
    "\n",
    "    return s\n",
    "\n",
    "print(coder(bits, SF))"
   ],
   "id": "365323782c813830",
   "outputs": [
    {
     "name": "stdout",
     "output_type": "stream",
     "text": [
      "[57 20]\n"
     ]
    }
   ],
   "execution_count": 49
  },
  {
   "metadata": {},
   "cell_type": "markdown",
   "source": [
    "###  Ejemplo de codificación usando la Ecuación (1)\n",
    "\n",
    "#### Datos de entrada:\n",
    "\n",
    "- `bits = [1, 0, 0, 1, 1, 1, 0]`\n",
    "- `SF = 7`\n",
    "\n",
    "#### Desarrollo paso a paso:\n",
    "\n",
    "Agrupamos los 7 bits como un único símbolo, ya que `SF = 7`.\n",
    "\n",
    "$\\begin{aligned}\n",
    "s &= w_0 \\cdot 2^0 + w_1 \\cdot 2^1 + w_2 \\cdot 2^2 + w_3 \\cdot 2^3 + w_4 \\cdot 2^4 + w_5 \\cdot 2^5 + w_6 \\cdot 2^6 \\\\\n",
    "  &= 1 \\cdot 2^0 + 0 \\cdot 2^1 + 0 \\cdot 2^2 + 1 \\cdot 2^3 + 1 \\cdot 2^4 + 1 \\cdot 2^5 + 0 \\cdot 2^6 \\\\\n",
    "  &= 1 \\cdot 1 + 0 \\cdot 2 + 0 \\cdot 4 + 1 \\cdot 8 + 1 \\cdot 16 + 1 \\cdot 32 + 0 \\cdot 64 \\\\\n",
    "  &= 1 + 0 + 0 + 8 + 16 + 32 + 0 \\\\\n",
    "  &= 57\n",
    "\\end{aligned}$\n",
    "\n",
    "\n",
    "####  Resultado esperado:\n",
    "\n",
    "```python\n",
    "[57]\n"
   ],
   "id": "7288e90e398f8662"
  },
  {
   "metadata": {},
   "cell_type": "markdown",
   "source": "## DECODIFICADOR",
   "id": "c5f23d80aa1d66c"
  },
  {
   "metadata": {
    "ExecuteTime": {
     "end_time": "2025-06-25T23:34:22.166562Z",
     "start_time": "2025-06-25T23:34:22.160880Z"
    }
   },
   "cell_type": "code",
   "source": [
    "def decoder(s, SF):\n",
    "    # Verificar que SF sea válido\n",
    "    if SF not in SF_Validos:\n",
    "        raise ValueError(\"SF inválido\")\n",
    "\n",
    "    bits_recuperados = []\n",
    "\n",
    "    # Por cada símbolo, reconstruir los SF bits\n",
    "    for simbolo in s:\n",
    "        #bits_simbolos=[]\n",
    "        for h in range(SF):\n",
    "            # Obtener el bit de orden h (menos significativo primero)\n",
    "            bit = (simbolo >> h) & 1\n",
    "            bits_recuperados.append(bit)\n",
    "        #bits_recuperados.append(bits_simbolos)\n",
    "\n",
    "    return bits_recuperados\n",
    "print(decoder([57,20], 7))"
   ],
   "id": "56f0b3f9d8a417cf",
   "outputs": [
    {
     "name": "stdout",
     "output_type": "stream",
     "text": [
      "[1, 0, 0, 1, 1, 1, 0, 0, 0, 1, 0, 1, 0, 0]\n"
     ]
    }
   ],
   "execution_count": 51
  },
  {
   "metadata": {},
   "cell_type": "markdown",
   "source": [
    "### Decodificación manual del símbolo (Ecuación inversa de la codificación)\n",
    "\n",
    "#### Dato recibido:\n",
    "\n",
    "- Símbolo codificado: `s = 57`\n",
    "- Spreading Factor: `SF = 7`\n",
    "\n",
    "Queremos obtener los 7 bits originales que generaron este símbolo.\n",
    "\n",
    "\n",
    "#### Desarrollo paso a paso:\n",
    "\n",
    "| h (posición del bit) | Cálculo                          | Resultado `w_h` |\n",
    "|----------------------|----------------------------------|-----------------|\n",
    "| 0                    | \\( (57 >> 0) \\& 1 = 57 \\& 1 \\)   | 1               |\n",
    "| 1                    | \\( (57 >> 1) \\& 1 = 28 \\& 1 \\)   | 0               |\n",
    "| 2                    | \\( (57 >> 2) \\& 1 = 14 \\& 1 \\)   | 0               |\n",
    "| 3                    | \\( (57 >> 3) \\& 1 = 7 \\& 1 \\)    | 1               |\n",
    "| 4                    | \\( (57 >> 4) \\& 1 = 3 \\& 1 \\)    | 1               |\n",
    "| 5                    | \\( (57 >> 5) \\& 1 = 1 \\& 1 \\)    | 1               |\n",
    "| 6                    | \\( (57 >> 6) \\& 1 = 0 \\& 1 \\)    | 0               |\n",
    "\n"
   ],
   "id": "305060b7abf9d03b"
  },
  {
   "metadata": {
    "ExecuteTime": {
     "end_time": "2025-06-25T23:34:24.529324Z",
     "start_time": "2025-06-25T23:34:24.522880Z"
    }
   },
   "cell_type": "code",
   "source": [
    "bit_randoms=np.random.randint(0,2,14)\n",
    "Codificador = coder(bit_randoms, 7)\n",
    "Decodificados = decoder(Codificador, 7)\n",
    "\n",
    "def errores(lista1, lista2):\n",
    "\n",
    "    error=0\n",
    "    for i,j in zip(lista1, lista2):\n",
    "        if (i != j):\n",
    "            error+=1\n",
    "    return error\n",
    "\n",
    "def ber():\n",
    "    BER=errores(Decodificados,bit_randoms)/len(bit_randoms)\n",
    "    return BER\n",
    "\n",
    "print(ber())"
   ],
   "id": "128038ecc49841d8",
   "outputs": [
    {
     "name": "stdout",
     "output_type": "stream",
     "text": [
      "0.0\n"
     ]
    }
   ],
   "execution_count": 52
  },
  {
   "metadata": {},
   "cell_type": "markdown",
   "source": "### Waveformer Former",
   "id": "26341c1aa4f953a"
  },
  {
   "metadata": {
    "ExecuteTime": {
     "end_time": "2025-06-25T23:34:26.524605Z",
     "start_time": "2025-06-25T23:34:26.519667Z"
    }
   },
   "cell_type": "code",
   "source": [
    "\n",
    "def waveform_former(s, SF):\n",
    "    M = 2 ** SF  # cantidad de muestras por chirp\n",
    "    chirps = []\n",
    "\n",
    "    for simbolo in s:\n",
    "        k = np.arange(M)\n",
    "        fase = ((simbolo + k) % M) * k / M\n",
    "        chirp = (1 / np.sqrt(M)) * np.exp(1j * 2 * np.pi * fase)\n",
    "        chirps.append(chirp)\n",
    "\n",
    "    return np.array(chirps)  # matriz [N x M]\n",
    "\n",
    "\n"
   ],
   "id": "3fbf8b65e8910e26",
   "outputs": [],
   "execution_count": 53
  },
  {
   "metadata": {
    "ExecuteTime": {
     "end_time": "2025-06-25T23:50:08.982885Z",
     "start_time": "2025-06-25T23:50:08.852630Z"
    }
   },
   "cell_type": "code",
   "source": [
    "\n",
    " # Generar un chirp para símbolo 57\n",
    "SF = 7\n",
    "chirp = waveform_former([57], SF)[0]\n",
    "\n",
    "# Calcular fase y frecuencia instantánea\n",
    "fase = np.unwrap(np.angle(chirp))\n",
    "frecuencia_inst = np.diff(fase) / (2 * np.pi)\n",
    "\n",
    "# Graficar\n",
    "plt.figure(figsize=(10, 3))\n",
    "plt.plot(frecuencia_inst)\n",
    "plt.title(\"Frecuencia Instantánea del Chirp (símbolo 57)\")\n",
    "plt.xlabel(\"Muestras\")\n",
    "plt.ylabel(\"Frecuencia [ciclos/muestra]\")\n",
    "plt.grid(True)\n",
    "plt.show()"
   ],
   "id": "36dab168b18be254",
   "outputs": [
    {
     "data": {
      "text/plain": [
       "<Figure size 1000x300 with 1 Axes>"
      ],
      "image/png": "[encoded data removed]"
     },
     "metadata": {},
     "output_type": "display_data"
    }
   ],
   "execution_count": 73
  },
  {
   "metadata": {},
   "cell_type": "markdown",
   "source": [
    "##  Waveform Former\n",
    "\n",
    "###  Ecuación (2) del paper de Vangelista\n",
    "\n",
    "La señal modulada transmitida para un símbolo $\\begin{aligned}( s(nT_s) \\in \\{0, 1, \\dots, 2^{SF} - 1\\}) \\end{aligned}$, según la Ecuación (2) del paper, se define como:\n",
    "\n",
    "\n",
    "\n",
    "$\\begin{aligned}\n",
    "c(nT_s + kT) = \\frac{1}{\\sqrt{2^{SF}}} \\cdot e^{j2\\pi \\cdot \\left[ \\frac{(s(nT_s) + k) \\bmod 2^{SF} \\cdot k}{2^{SF}} \\right]}\n",
    "\\quad \\text{para } k = 0, 1, \\dots, 2^{SF}-1\n",
    "\\end{aligned}$\n",
    "\n",
    "Donde:\n",
    "- $\\begin{aligned} SF \\end{aligned}$: Spreading Factor.\n",
    "- $\\begin{aligned} s(nT_s)\\end{aligned}$: símbolo entero codificado (de 0 a \\(2^{SF}-1\\)).\n",
    "- $\\begin{aligned} k \\end{aligned}$: índice de muestra temporal (discreto).\n",
    "- $\\begin{aligned} c(nT_s + kT) \\end{aligned}$: muestra compleja de la forma de onda LoRa transmitida.\n",
    "\n",
    "Esta señal es un \"chirp\" modulado en frecuencia, cuya frecuencia instantánea varía linealmente.\n",
    "\n",
    "\n"
   ],
   "id": "cbc783633934b12f"
  },
  {
   "metadata": {},
   "cell_type": "markdown",
   "source": "### n-Tuple Former",
   "id": "12812d01f66366fd"
  },
  {
   "metadata": {
    "ExecuteTime": {
     "end_time": "2025-06-25T23:59:17.113033Z",
     "start_time": "2025-06-25T23:59:17.108357Z"
    }
   },
   "cell_type": "code",
   "source": [
    "def n_tuple_former(received_chirps, SF):\n",
    "    M = 2 ** SF\n",
    "    k = np.arange(M)\n",
    "    downchirp = np.exp(-1j * 2 * np.pi * k**2 / M)\n",
    "\n",
    "    simbolos_estimados = []\n",
    "    for chirp in received_chirps:\n",
    "        producto = chirp * downchirp\n",
    "        fft_producto = np.fft.fft(producto) #Es la Transformada Rápida de Fourier (FFT) en NumPy\n",
    "        simbolo_estimado = np.argmax(np.abs(fft_producto))\n",
    "        simbolos_estimados.append(simbolo_estimado)\n",
    "\n",
    "    return np.array(simbolos_estimados)\n"
   ],
   "id": "c5eacef02985f5ba",
   "outputs": [],
   "execution_count": 74
  },
  {
   "metadata": {},
   "cell_type": "markdown",
   "source": [
    "##  n-Tuple Former — Receptor Óptimo\n",
    "\n",
    "###  Descripción Teórica (Sección III del paper de Vangelista)\n",
    "\n",
    "La detección del símbolo transmitido se realiza aplicando un correlador discreto implementado como un receptor óptimo (n-Tuple Former). El procedimiento consiste en:\n",
    "\n",
    "1. Multiplicar el chirp recibido por una señal conjugada de referencia conocida como \"downchirp\":\n",
    "   $\\begin{aligned}\n",
    "   d(k) = e^{-j2\\pi \\cdot \\frac{k^2}{2^{SF}}}\n",
    "   \\end{aligned}$\n",
    "2. Aplicar una Transformada Rápida de Fourier (FFT) al producto.\n",
    "3. Detectar el símbolo como el índice del valor máximo del espectro resultante.\n",
    "\n",
    "\n",
    "###  Análisis Matemático\n",
    "\n",
    "Para cada chirp recibido $\\begin{aligned} r(k) \\end{aligned}$, se realiza:\n",
    "\n",
    "$\\begin{aligned}\n",
    "d(k) &= r(k) \\cdot e^{-j2\\pi \\cdot \\frac{k^2}{2^{SF}}} \\\\\n",
    "R(f) &= \\text{FFT}\\left\\{ d(k) \\right\\} \\\\\n",
    "\\hat{s} &= \\arg \\max_{f} \\left| R(f) \\right|\n",
    "\\end{aligned}$\n",
    "\n",
    "Donde:\n",
    "- $\\begin{aligned} r(k) \\end{aligned}$: chirp recibido de longitud $\\begin{aligned} M = 2^{SF} \\end{aligned}$\n",
    "- $\\begin{aligned} d(k) \\end{aligned}$: señal desmodulada en base al downchirp\n",
    "- $\\begin{aligned} R(f) \\end{aligned}$: transformada espectral\n",
    "- $\\begin{aligned} \\hat{s} \\end{aligned}$: símbolo estimado\n",
    "\n",
    "Este proceso actúa como un **correlador en frecuencia**, donde cada símbolo posible produce un pico en una posición distinta del espectro. El símbolo transmitido es el que **mejor correlaciona** con el chirp recibido.\n",
    "\n"
   ],
   "id": "8388bf90b0864ce5"
  },
  {
   "metadata": {
    "ExecuteTime": {
     "end_time": "2025-06-25T23:59:17.140952Z",
     "start_time": "2025-06-25T23:59:17.136790Z"
    }
   },
   "cell_type": "code",
   "source": [
    "# Definimos funciones de utilidad\n",
    "def errores_simbolos(s_tx, s_rx):\n",
    "    #Cuenta cuántos símbolos difieren entre dos listas\n",
    "    error = 0\n",
    "    for i, j in zip(s_tx, s_rx):\n",
    "        if i != j:\n",
    "            error += 1\n",
    "    return error\n",
    "\n",
    "def ser(s_tx, s_rx):\n",
    "    #\n",
    "    return errores_simbolos(s_tx, s_rx) / len(s_tx)\n"
   ],
   "id": "1cb79bf87c1b5b81",
   "outputs": [],
   "execution_count": 75
  },
  {
   "metadata": {
    "ExecuteTime": {
     "end_time": "2025-06-25T23:59:17.183416Z",
     "start_time": "2025-06-25T23:59:17.176091Z"
    }
   },
   "cell_type": "code",
   "source": [
    "SF = 7\n",
    "bit_randoms = np.random.randint(0, 2, SF * 2)  # 2 símbolos\n",
    "\n",
    "# Transmisor\n",
    "s_tx = coder(bit_randoms, SF)\n",
    "chirps_tx = waveform_former(s_tx, SF)\n",
    "\n",
    "# Receptor (sin canal)\n",
    "s_rx = n_tuple_former(chirps_tx, SF)\n",
    "\n",
    "# Calcular SER\n",
    "print(\"Símbolos transmitidos:\", s_tx[:10])\n",
    "print(\"Símbolos decodificados:\", s_rx[:10])\n",
    "print(\"SER:\", ser(s_tx, s_rx))"
   ],
   "id": "714b32cba944a7bc",
   "outputs": [
    {
     "name": "stdout",
     "output_type": "stream",
     "text": [
      "Símbolos transmitidos: [21 82]\n",
      "Símbolos decodificados: [21 82]\n",
      "SER: 0.0\n"
     ]
    }
   ],
   "execution_count": 76
  },
  {
   "metadata": {},
   "cell_type": "markdown",
   "source": "### Implementación del ruido AWGN",
   "id": "aaf793543cfa3081"
  },
  {
   "metadata": {
    "ExecuteTime": {
     "end_time": "2025-06-25T23:59:17.223889Z",
     "start_time": "2025-06-25T23:59:17.219597Z"
    }
   },
   "cell_type": "code",
   "source": [
    "def energia_promedio_chirp(chirps):\n",
    "    return np.mean(np.sum(np.abs(chirps)**2, axis=1))"
   ],
   "id": "b76aa281a4b1d07e",
   "outputs": [],
   "execution_count": 77
  },
  {
   "metadata": {
    "ExecuteTime": {
     "end_time": "2025-06-25T23:59:17.260665Z",
     "start_time": "2025-06-25T23:59:17.255817Z"
    }
   },
   "cell_type": "code",
   "source": [
    "def agregar_ruido_AWGN(chirps, SNR_dB):\n",
    "    M = chirps.shape[1]  # cantidad de muestras por chirp\n",
    "    SNR_linear = 10**(SNR_dB / 10)\n",
    "\n",
    "    Es = energia_promedio_chirp(chirps)\n",
    "    sigma2 = Es / (2 * SNR_linear)\n",
    "\n",
    "    ruido = np.sqrt(sigma2) * (np.random.randn(*chirps.shape) + 1j * np.random.randn(*chirps.shape))\n",
    "    return chirps + ruido"
   ],
   "id": "f9e7bc6f6f729d7b",
   "outputs": [],
   "execution_count": 78
  },
  {
   "metadata": {},
   "cell_type": "markdown",
   "source": [
    "## 🧪 Canal con Ruido AWGN y Curva BER/SER\n",
    "\n",
    "### AWGN (Additive White Gaussian Noise)\n",
    "Es un modelo de canal donde el ruido se suma a la señal transmitida:\n",
    "- Media: 0\n",
    "- Varianza: σ² = Eₛ / (2·SNRₗᵢₙₑₐᵣ)\n",
    "\n",
    "Donde:\n",
    "\n",
    "$\\begin{aligned}\n",
    "\\text{SNR}_{\\text{linear}} = 10^{\\frac{\\text{SNR}_{dB}}{10}}, \\quad\n",
    "\\sigma^2 = \\frac{E_s}{2 \\cdot \\text{SNR}_{\\text{linear}}}\n",
    "\\end{aligned}$\n",
    "\n",
    "\n",
    "\n",
    "### Procedimiento:\n",
    "1. Se genera una señal chirp (modulada) por símbolo.\n",
    "2. Se suma ruido Gaussiano complejo a la señal transmitida.\n",
    "3. Se decodifica usando n-Tuple Former + FFT.\n",
    "4. Se comparan los símbolos y bits originales con los decodificados.\n",
    "5. Se calcula y grafica:\n",
    "   - **BER**: tasa de error de bit.\n",
    "   - **SER**: tasa de error de símbolo."
   ],
   "id": "8b80afb802188150"
  },
  {
   "metadata": {
    "ExecuteTime": {
     "end_time": "2025-06-25T23:34:40.930759Z",
     "start_time": "2025-06-25T23:34:40.884237Z"
    }
   },
   "cell_type": "code",
   "source": [
    "SNR_dBs = np.arange(-12, 1, 2)\n",
    "BERs = []\n",
    "SERs = []\n",
    "\n",
    "SF = 7\n",
    "N_bits = 1000\n",
    "bit_randoms = np.random.randint(0, 2, N_bits)\n",
    "s_tx = coder(bit_randoms, SF)\n",
    "chirps_tx = waveform_former(s_tx, SF)\n",
    "\n",
    "for SNR in SNR_dBs:\n",
    "    chirps_noisy = agregar_ruido_AWGN(chirps_tx, SNR)\n",
    "    s_rx = n_tuple_former(chirps_noisy, SF)\n",
    "    bits_rx = decoder(s_rx, SF)\n",
    "\n",
    "    ber_val = ber(bit_randoms, bits_rx)\n",
    "    ser_val = ser(s_tx, s_rx)\n",
    "\n",
    "    BERs.append(ber_val)\n",
    "    SERs.append(ser_val)\n"
   ],
   "id": "c302a6b1004d3a0d",
   "outputs": [
    {
     "ename": "ValueError",
     "evalue": "Numero de bits no es multiplo de SF",
     "output_type": "error",
     "traceback": [
      "\u001B[31m---------------------------------------------------------------------------\u001B[39m",
      "\u001B[31mValueError\u001B[39m                                Traceback (most recent call last)",
      "\u001B[36mCell\u001B[39m\u001B[36m \u001B[39m\u001B[32mIn[60]\u001B[39m\u001B[32m, line 8\u001B[39m\n\u001B[32m      6\u001B[39m N_bits = \u001B[32m1000\u001B[39m\n\u001B[32m      7\u001B[39m bit_randoms = np.random.randint(\u001B[32m0\u001B[39m, \u001B[32m2\u001B[39m, N_bits)\n\u001B[32m----> \u001B[39m\u001B[32m8\u001B[39m s_tx = \u001B[43mcoder\u001B[49m\u001B[43m(\u001B[49m\u001B[43mbit_randoms\u001B[49m\u001B[43m,\u001B[49m\u001B[43m \u001B[49m\u001B[43mSF\u001B[49m\u001B[43m)\u001B[49m\n\u001B[32m      9\u001B[39m chirps_tx = waveform_former(s_tx, SF)\n\u001B[32m     11\u001B[39m \u001B[38;5;28;01mfor\u001B[39;00m SNR \u001B[38;5;129;01min\u001B[39;00m SNR_dBs:\n",
      "\u001B[36mCell\u001B[39m\u001B[36m \u001B[39m\u001B[32mIn[49]\u001B[39m\u001B[32m, line 11\u001B[39m, in \u001B[36mcoder\u001B[39m\u001B[34m(bits, SF)\u001B[39m\n\u001B[32m      9\u001B[39m \u001B[38;5;66;03m#Verificar que la cantidad de bits sea multiplo del SF\u001B[39;00m\n\u001B[32m     10\u001B[39m \u001B[38;5;28;01mif\u001B[39;00m \u001B[38;5;28mlen\u001B[39m(bits) % SF != \u001B[32m0\u001B[39m:\n\u001B[32m---> \u001B[39m\u001B[32m11\u001B[39m     \u001B[38;5;28;01mraise\u001B[39;00m \u001B[38;5;167;01mValueError\u001B[39;00m(\u001B[33m\"\u001B[39m\u001B[33mNumero de bits no es multiplo de SF\u001B[39m\u001B[33m\"\u001B[39m)\n\u001B[32m     13\u001B[39m    \u001B[38;5;66;03m# Inicialización del vector de símbolos\u001B[39;00m\n\u001B[32m     14\u001B[39m N_simbolos = \u001B[38;5;28mlen\u001B[39m(bits) // SF\n",
      "\u001B[31mValueError\u001B[39m: Numero de bits no es multiplo de SF"
     ]
    }
   ],
   "execution_count": 60
  },
  {
   "metadata": {
    "ExecuteTime": {
     "end_time": "2025-06-25T23:29:49.114266400Z",
     "start_time": "2025-06-25T23:29:11.732024Z"
    }
   },
   "cell_type": "code",
   "source": [
    "import matplotlib.pyplot as plt\n",
    "\n",
    "plt.semilogy(SNR_dBs, BERs, 'o-', label='BER')\n",
    "plt.semilogy(SNR_dBs, SERs, 's-', label='SER')\n",
    "plt.xlabel(\"SNR [dB]\")\n",
    "plt.ylabel(\"Tasa de error (log)\")\n",
    "plt.title(\"Curvas BER y SER vs SNR\")\n",
    "plt.grid(True, which='both')\n",
    "plt.legend()\n",
    "plt.show()"
   ],
   "id": "40dec987908b00f3",
   "outputs": [
    {
     "ename": "ValueError",
     "evalue": "x and y must have same first dimension, but have shapes (7,) and (0,)",
     "output_type": "error",
     "traceback": [
      "\u001B[31m---------------------------------------------------------------------------\u001B[39m",
      "\u001B[31mValueError\u001B[39m                                Traceback (most recent call last)",
      "\u001B[36mCell\u001B[39m\u001B[36m \u001B[39m\u001B[32mIn[21]\u001B[39m\u001B[32m, line 3\u001B[39m\n\u001B[32m      1\u001B[39m \u001B[38;5;28;01mimport\u001B[39;00m\u001B[38;5;250m \u001B[39m\u001B[34;01mmatplotlib\u001B[39;00m\u001B[34;01m.\u001B[39;00m\u001B[34;01mpyplot\u001B[39;00m\u001B[38;5;250m \u001B[39m\u001B[38;5;28;01mas\u001B[39;00m\u001B[38;5;250m \u001B[39m\u001B[34;01mplt\u001B[39;00m\n\u001B[32m----> \u001B[39m\u001B[32m3\u001B[39m \u001B[43mplt\u001B[49m\u001B[43m.\u001B[49m\u001B[43msemilogy\u001B[49m\u001B[43m(\u001B[49m\u001B[43mSNR_dBs\u001B[49m\u001B[43m,\u001B[49m\u001B[43m \u001B[49m\u001B[43mBERs\u001B[49m\u001B[43m,\u001B[49m\u001B[43m \u001B[49m\u001B[33;43m'\u001B[39;49m\u001B[33;43mo-\u001B[39;49m\u001B[33;43m'\u001B[39;49m\u001B[43m,\u001B[49m\u001B[43m \u001B[49m\u001B[43mlabel\u001B[49m\u001B[43m=\u001B[49m\u001B[33;43m'\u001B[39;49m\u001B[33;43mBER\u001B[39;49m\u001B[33;43m'\u001B[39;49m\u001B[43m)\u001B[49m\n\u001B[32m      4\u001B[39m plt.semilogy(SNR_dBs, SERs, \u001B[33m'\u001B[39m\u001B[33ms-\u001B[39m\u001B[33m'\u001B[39m, label=\u001B[33m'\u001B[39m\u001B[33mSER\u001B[39m\u001B[33m'\u001B[39m)\n\u001B[32m      5\u001B[39m plt.xlabel(\u001B[33m\"\u001B[39m\u001B[33mSNR [dB]\u001B[39m\u001B[33m\"\u001B[39m)\n",
      "\u001B[36mFile \u001B[39m\u001B[32m~\\AppData\\Local\\Programs\\Python\\Python313\\Lib\\site-packages\\matplotlib\\pyplot.py:3968\u001B[39m, in \u001B[36msemilogy\u001B[39m\u001B[34m(*args, **kwargs)\u001B[39m\n\u001B[32m   3966\u001B[39m \u001B[38;5;129m@_copy_docstring_and_deprecators\u001B[39m(Axes.semilogy)\n\u001B[32m   3967\u001B[39m \u001B[38;5;28;01mdef\u001B[39;00m\u001B[38;5;250m \u001B[39m\u001B[34msemilogy\u001B[39m(*args, **kwargs) -> \u001B[38;5;28mlist\u001B[39m[Line2D]:\n\u001B[32m-> \u001B[39m\u001B[32m3968\u001B[39m     \u001B[38;5;28;01mreturn\u001B[39;00m \u001B[43mgca\u001B[49m\u001B[43m(\u001B[49m\u001B[43m)\u001B[49m\u001B[43m.\u001B[49m\u001B[43msemilogy\u001B[49m\u001B[43m(\u001B[49m\u001B[43m*\u001B[49m\u001B[43margs\u001B[49m\u001B[43m,\u001B[49m\u001B[43m \u001B[49m\u001B[43m*\u001B[49m\u001B[43m*\u001B[49m\u001B[43mkwargs\u001B[49m\u001B[43m)\u001B[49m\n",
      "\u001B[36mFile \u001B[39m\u001B[32m~\\AppData\\Local\\Programs\\Python\\Python313\\Lib\\site-packages\\matplotlib\\axes\\_axes.py:2012\u001B[39m, in \u001B[36mAxes.semilogy\u001B[39m\u001B[34m(self, *args, **kwargs)\u001B[39m\n\u001B[32m   2008\u001B[39m d = {k: v \u001B[38;5;28;01mfor\u001B[39;00m k, v \u001B[38;5;129;01min\u001B[39;00m kwargs.items()\n\u001B[32m   2009\u001B[39m      \u001B[38;5;28;01mif\u001B[39;00m k \u001B[38;5;129;01min\u001B[39;00m [\u001B[33m'\u001B[39m\u001B[33mbase\u001B[39m\u001B[33m'\u001B[39m, \u001B[33m'\u001B[39m\u001B[33msubs\u001B[39m\u001B[33m'\u001B[39m, \u001B[33m'\u001B[39m\u001B[33mnonpositive\u001B[39m\u001B[33m'\u001B[39m,\n\u001B[32m   2010\u001B[39m               \u001B[33m'\u001B[39m\u001B[33mbasey\u001B[39m\u001B[33m'\u001B[39m, \u001B[33m'\u001B[39m\u001B[33msubsy\u001B[39m\u001B[33m'\u001B[39m, \u001B[33m'\u001B[39m\u001B[33mnonposy\u001B[39m\u001B[33m'\u001B[39m]}\n\u001B[32m   2011\u001B[39m \u001B[38;5;28mself\u001B[39m.set_yscale(\u001B[33m'\u001B[39m\u001B[33mlog\u001B[39m\u001B[33m'\u001B[39m, **d)\n\u001B[32m-> \u001B[39m\u001B[32m2012\u001B[39m \u001B[38;5;28;01mreturn\u001B[39;00m \u001B[38;5;28;43mself\u001B[39;49m\u001B[43m.\u001B[49m\u001B[43mplot\u001B[49m\u001B[43m(\u001B[49m\n\u001B[32m   2013\u001B[39m \u001B[43m    \u001B[49m\u001B[43m*\u001B[49m\u001B[43margs\u001B[49m\u001B[43m,\u001B[49m\u001B[43m \u001B[49m\u001B[43m*\u001B[49m\u001B[43m*\u001B[49m\u001B[43m{\u001B[49m\u001B[43mk\u001B[49m\u001B[43m:\u001B[49m\u001B[43m \u001B[49m\u001B[43mv\u001B[49m\u001B[43m \u001B[49m\u001B[38;5;28;43;01mfor\u001B[39;49;00m\u001B[43m \u001B[49m\u001B[43mk\u001B[49m\u001B[43m,\u001B[49m\u001B[43m \u001B[49m\u001B[43mv\u001B[49m\u001B[43m \u001B[49m\u001B[38;5;129;43;01min\u001B[39;49;00m\u001B[43m \u001B[49m\u001B[43mkwargs\u001B[49m\u001B[43m.\u001B[49m\u001B[43mitems\u001B[49m\u001B[43m(\u001B[49m\u001B[43m)\u001B[49m\u001B[43m \u001B[49m\u001B[38;5;28;43;01mif\u001B[39;49;00m\u001B[43m \u001B[49m\u001B[43mk\u001B[49m\u001B[43m \u001B[49m\u001B[38;5;129;43;01mnot\u001B[39;49;00m\u001B[43m \u001B[49m\u001B[38;5;129;43;01min\u001B[39;49;00m\u001B[43m \u001B[49m\u001B[43md\u001B[49m\u001B[43m}\u001B[49m\u001B[43m)\u001B[49m\n",
      "\u001B[36mFile \u001B[39m\u001B[32m~\\AppData\\Local\\Programs\\Python\\Python313\\Lib\\site-packages\\matplotlib\\axes\\_axes.py:1777\u001B[39m, in \u001B[36mAxes.plot\u001B[39m\u001B[34m(self, scalex, scaley, data, *args, **kwargs)\u001B[39m\n\u001B[32m   1534\u001B[39m \u001B[38;5;250m\u001B[39m\u001B[33;03m\"\"\"\u001B[39;00m\n\u001B[32m   1535\u001B[39m \u001B[33;03mPlot y versus x as lines and/or markers.\u001B[39;00m\n\u001B[32m   1536\u001B[39m \n\u001B[32m   (...)\u001B[39m\u001B[32m   1774\u001B[39m \u001B[33;03m(``'green'``) or hex strings (``'#008000'``).\u001B[39;00m\n\u001B[32m   1775\u001B[39m \u001B[33;03m\"\"\"\u001B[39;00m\n\u001B[32m   1776\u001B[39m kwargs = cbook.normalize_kwargs(kwargs, mlines.Line2D)\n\u001B[32m-> \u001B[39m\u001B[32m1777\u001B[39m lines = [*\u001B[38;5;28mself\u001B[39m._get_lines(\u001B[38;5;28mself\u001B[39m, *args, data=data, **kwargs)]\n\u001B[32m   1778\u001B[39m \u001B[38;5;28;01mfor\u001B[39;00m line \u001B[38;5;129;01min\u001B[39;00m lines:\n\u001B[32m   1779\u001B[39m     \u001B[38;5;28mself\u001B[39m.add_line(line)\n",
      "\u001B[36mFile \u001B[39m\u001B[32m~\\AppData\\Local\\Programs\\Python\\Python313\\Lib\\site-packages\\matplotlib\\axes\\_base.py:297\u001B[39m, in \u001B[36m_process_plot_var_args.__call__\u001B[39m\u001B[34m(self, axes, data, return_kwargs, *args, **kwargs)\u001B[39m\n\u001B[32m    295\u001B[39m     this += args[\u001B[32m0\u001B[39m],\n\u001B[32m    296\u001B[39m     args = args[\u001B[32m1\u001B[39m:]\n\u001B[32m--> \u001B[39m\u001B[32m297\u001B[39m \u001B[38;5;28;01myield from\u001B[39;00m \u001B[38;5;28;43mself\u001B[39;49m\u001B[43m.\u001B[49m\u001B[43m_plot_args\u001B[49m\u001B[43m(\u001B[49m\n\u001B[32m    298\u001B[39m \u001B[43m    \u001B[49m\u001B[43maxes\u001B[49m\u001B[43m,\u001B[49m\u001B[43m \u001B[49m\u001B[43mthis\u001B[49m\u001B[43m,\u001B[49m\u001B[43m \u001B[49m\u001B[43mkwargs\u001B[49m\u001B[43m,\u001B[49m\u001B[43m \u001B[49m\u001B[43mambiguous_fmt_datakey\u001B[49m\u001B[43m=\u001B[49m\u001B[43mambiguous_fmt_datakey\u001B[49m\u001B[43m,\u001B[49m\n\u001B[32m    299\u001B[39m \u001B[43m    \u001B[49m\u001B[43mreturn_kwargs\u001B[49m\u001B[43m=\u001B[49m\u001B[43mreturn_kwargs\u001B[49m\n\u001B[32m    300\u001B[39m \u001B[43m\u001B[49m\u001B[43m)\u001B[49m\n",
      "\u001B[36mFile \u001B[39m\u001B[32m~\\AppData\\Local\\Programs\\Python\\Python313\\Lib\\site-packages\\matplotlib\\axes\\_base.py:494\u001B[39m, in \u001B[36m_process_plot_var_args._plot_args\u001B[39m\u001B[34m(self, axes, tup, kwargs, return_kwargs, ambiguous_fmt_datakey)\u001B[39m\n\u001B[32m    491\u001B[39m     axes.yaxis.update_units(y)\n\u001B[32m    493\u001B[39m \u001B[38;5;28;01mif\u001B[39;00m x.shape[\u001B[32m0\u001B[39m] != y.shape[\u001B[32m0\u001B[39m]:\n\u001B[32m--> \u001B[39m\u001B[32m494\u001B[39m     \u001B[38;5;28;01mraise\u001B[39;00m \u001B[38;5;167;01mValueError\u001B[39;00m(\u001B[33mf\u001B[39m\u001B[33m\"\u001B[39m\u001B[33mx and y must have same first dimension, but \u001B[39m\u001B[33m\"\u001B[39m\n\u001B[32m    495\u001B[39m                      \u001B[33mf\u001B[39m\u001B[33m\"\u001B[39m\u001B[33mhave shapes \u001B[39m\u001B[38;5;132;01m{\u001B[39;00mx.shape\u001B[38;5;132;01m}\u001B[39;00m\u001B[33m and \u001B[39m\u001B[38;5;132;01m{\u001B[39;00my.shape\u001B[38;5;132;01m}\u001B[39;00m\u001B[33m\"\u001B[39m)\n\u001B[32m    496\u001B[39m \u001B[38;5;28;01mif\u001B[39;00m x.ndim > \u001B[32m2\u001B[39m \u001B[38;5;129;01mor\u001B[39;00m y.ndim > \u001B[32m2\u001B[39m:\n\u001B[32m    497\u001B[39m     \u001B[38;5;28;01mraise\u001B[39;00m \u001B[38;5;167;01mValueError\u001B[39;00m(\u001B[33mf\u001B[39m\u001B[33m\"\u001B[39m\u001B[33mx and y can be no greater than 2D, but have \u001B[39m\u001B[33m\"\u001B[39m\n\u001B[32m    498\u001B[39m                      \u001B[33mf\u001B[39m\u001B[33m\"\u001B[39m\u001B[33mshapes \u001B[39m\u001B[38;5;132;01m{\u001B[39;00mx.shape\u001B[38;5;132;01m}\u001B[39;00m\u001B[33m and \u001B[39m\u001B[38;5;132;01m{\u001B[39;00my.shape\u001B[38;5;132;01m}\u001B[39;00m\u001B[33m\"\u001B[39m)\n",
      "\u001B[31mValueError\u001B[39m: x and y must have same first dimension, but have shapes (7,) and (0,)"
     ]
    },
    {
     "data": {
      "text/plain": [
       "<Figure size 640x480 with 1 Axes>"
      ],
      "image/png": "[encoded data removed]"
     },
     "metadata": {},
     "output_type": "display_data"
    }
   ],
   "execution_count": 21
  }
 ],
 "metadata": {
  "kernelspec": {
   "display_name": "Python 3",
   "language": "python",
   "name": "python3"
  },
  "language_info": {
   "codemirror_mode": {
    "name": "ipython",
    "version": 2
   },
   "file_extension": ".py",
   "mimetype": "text/x-python",
   "name": "python",
   "nbconvert_exporter": "python",
   "pygments_lexer": "ipython2",
   "version": "2.7.6"
  }
 },
 "nbformat": 4,
 "nbformat_minor": 5
}
