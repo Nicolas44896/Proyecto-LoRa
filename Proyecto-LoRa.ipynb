{
 "cells": [
  {
   "metadata": {
    "collapsed": true,
    "ExecuteTime": {
     "end_time": "2025-06-25T00:15:49.076300Z",
     "start_time": "2025-06-25T00:15:49.072244Z"
    }
   },
   "cell_type": "code",
   "source": [
    "from doctest import testfile\n",
    "\n",
    "import numpy as np\n",
    "import matplotlib.pyplot as plt"
   ],
   "id": "initial_id",
   "outputs": [],
   "execution_count": 14
  },
  {
   "metadata": {},
   "cell_type": "markdown",
   "source": "## CODIFICADOR",
   "id": "2f20f185564d2101"
  },
  {
   "metadata": {
    "ExecuteTime": {
     "end_time": "2025-06-24T23:57:35.468408Z",
     "start_time": "2025-06-24T23:57:35.461536Z"
    }
   },
   "cell_type": "code",
   "source": [
    "bits = [1, 0, 0, 1, 1, 1, 0, 0, 0, 1, 0, 1, 0, 0]\n",
    "SF = 7\n",
    "SF_Validos = [7, 8, 9, 10, 11, 12]\n",
    "\n",
    "def coder(bits, SF):\n",
    "    #Verificar si SF es valido\n",
    "    if SF not in SF_Validos:\n",
    "        raise ValueError(\"Invalido\")\n",
    "    #Verificar que la cantidad de bits sea multiplo del SF\n",
    "    if len(bits) % SF != 0:\n",
    "        raise ValueError(\"Numero de bits no es multiplo de SF\")\n",
    "\n",
    "       # Inicialización del vector de símbolos\n",
    "    N_simbolos = len(bits) // SF\n",
    "    s = np.zeros(N_simbolos, dtype=int)\n",
    "\n",
    "    # Implementación de la ecuación (1)\n",
    "    for i in range(N_simbolos):\n",
    "        for h in range(SF):\n",
    "            s[i] += bits[i * SF + h] * (2 ** h)\n",
    "\n",
    "    return s\n",
    "\n",
    "print(coder(bits, SF))"
   ],
   "id": "365323782c813830",
   "outputs": [
    {
     "name": "stdout",
     "output_type": "stream",
     "text": [
      "[57 20]\n"
     ]
    }
   ],
   "execution_count": 2
  },
  {
   "metadata": {},
   "cell_type": "markdown",
   "source": [
    "###  Ejemplo de codificación usando la Ecuación (1)\n",
    "\n",
    "#### Datos de entrada:\n",
    "\n",
    "- `bits = [1, 0, 0, 1, 1, 1, 0]`\n",
    "- `SF = 7`\n",
    "\n",
    "#### Desarrollo paso a paso:\n",
    "\n",
    "Agrupamos los 7 bits como un único símbolo, ya que `SF = 7`.\n",
    "\n",
    "$\\begin{aligned}\n",
    "s &= w_0 \\cdot 2^0 + w_1 \\cdot 2^1 + w_2 \\cdot 2^2 + w_3 \\cdot 2^3 + w_4 \\cdot 2^4 + w_5 \\cdot 2^5 + w_6 \\cdot 2^6 \\\\\n",
    "  &= 1 \\cdot 2^0 + 0 \\cdot 2^1 + 0 \\cdot 2^2 + 1 \\cdot 2^3 + 1 \\cdot 2^4 + 1 \\cdot 2^5 + 0 \\cdot 2^6 \\\\\n",
    "  &= 1 \\cdot 1 + 0 \\cdot 2 + 0 \\cdot 4 + 1 \\cdot 8 + 1 \\cdot 16 + 1 \\cdot 32 + 0 \\cdot 64 \\\\\n",
    "  &= 1 + 0 + 0 + 8 + 16 + 32 + 0 \\\\\n",
    "  &= 57\n",
    "\\end{aligned}$\n",
    "\n",
    "\n",
    "####  Resultado esperado:\n",
    "\n",
    "```python\n",
    "[57]\n"
   ],
   "id": "7288e90e398f8662"
  },
  {
   "metadata": {},
   "cell_type": "markdown",
   "source": "## DECODIFICADOR",
   "id": "c5f23d80aa1d66c"
  },
  {
   "metadata": {
    "ExecuteTime": {
     "end_time": "2025-06-24T23:57:39.797940Z",
     "start_time": "2025-06-24T23:57:39.791093Z"
    }
   },
   "cell_type": "code",
   "source": [
    "def decoder(s, SF):\n",
    "    # Verificar que SF sea válido\n",
    "    if SF not in SF_Validos:\n",
    "        raise ValueError(\"SF inválido\")\n",
    "\n",
    "    bits_recuperados = []\n",
    "\n",
    "    # Por cada símbolo, reconstruir los SF bits\n",
    "    for simbolo in s:\n",
    "        #bits_simbolos=[]\n",
    "        for h in range(SF):\n",
    "            # Obtener el bit de orden h (menos significativo primero)\n",
    "            bit = (simbolo >> h) & 1\n",
    "            bits_recuperados.append(bit)\n",
    "        #bits_recuperados.append(bits_simbolos)\n",
    "\n",
    "    return bits_recuperados\n",
    "print(decoder([57,20], 7))"
   ],
   "id": "56f0b3f9d8a417cf",
   "outputs": [
    {
     "name": "stdout",
     "output_type": "stream",
     "text": [
      "[1, 0, 0, 1, 1, 1, 0, 0, 0, 1, 0, 1, 0, 0]\n"
     ]
    }
   ],
   "execution_count": 3
  },
  {
   "metadata": {},
   "cell_type": "markdown",
   "source": [
    "### Decodificación manual del símbolo (Ecuación inversa de la codificación)\n",
    "\n",
    "#### Dato recibido:\n",
    "\n",
    "- Símbolo codificado: `s = 57`\n",
    "- Spreading Factor: `SF = 7`\n",
    "\n",
    "Queremos obtener los 7 bits originales que generaron este símbolo.\n",
    "\n",
    "\n",
    "#### Desarrollo paso a paso:\n",
    "\n",
    "| h (posición del bit) | Cálculo                          | Resultado `w_h` |\n",
    "|----------------------|----------------------------------|-----------------|\n",
    "| 0                    | \\( (57 >> 0) \\& 1 = 57 \\& 1 \\)   | 1               |\n",
    "| 1                    | \\( (57 >> 1) \\& 1 = 28 \\& 1 \\)   | 0               |\n",
    "| 2                    | \\( (57 >> 2) \\& 1 = 14 \\& 1 \\)   | 0               |\n",
    "| 3                    | \\( (57 >> 3) \\& 1 = 7 \\& 1 \\)    | 1               |\n",
    "| 4                    | \\( (57 >> 4) \\& 1 = 3 \\& 1 \\)    | 1               |\n",
    "| 5                    | \\( (57 >> 5) \\& 1 = 1 \\& 1 \\)    | 1               |\n",
    "| 6                    | \\( (57 >> 6) \\& 1 = 0 \\& 1 \\)    | 0               |\n",
    "\n"
   ],
   "id": "305060b7abf9d03b"
  },
  {
   "metadata": {
    "ExecuteTime": {
     "end_time": "2025-06-24T23:57:46.437767Z",
     "start_time": "2025-06-24T23:57:46.213275Z"
    }
   },
   "cell_type": "code",
   "source": [
    "bit_randoms=np.random.randint(0,2,14)\n",
    "Codificador = coder(bit_randoms, 7)\n",
    "Decodificados = decoder(Codificador, 7)\n",
    "\n",
    "def errores(lista1, lista2):\n",
    "\n",
    "    error=0\n",
    "    for i,j in zip(lista1, lista2):\n",
    "        if (i != j):\n",
    "            error+=1\n",
    "    return error\n",
    "\n",
    "def ber():\n",
    "    BER=errores(Decodificados,bit_randoms)/len(bit_randoms)\n",
    "    return BER\n",
    "\n",
    "print(ber())"
   ],
   "id": "128038ecc49841d8",
   "outputs": [
    {
     "name": "stdout",
     "output_type": "stream",
     "text": [
      "0.0\n"
     ]
    }
   ],
   "execution_count": 4
  },
  {
   "metadata": {},
   "cell_type": "markdown",
   "source": "### Waveformer Former",
   "id": "26341c1aa4f953a"
  },
  {
   "metadata": {
    "ExecuteTime": {
     "end_time": "2025-06-25T00:15:25.279510Z",
     "start_time": "2025-06-25T00:15:25.275100Z"
    }
   },
   "cell_type": "code",
   "source": [
    "def waveform_former(s, SF):\n",
    "    M = 2 ** SF  # cantidad de muestras por chirp\n",
    "    chirps = []\n",
    "\n",
    "    for simbolo in s:\n",
    "        k = np.arange(M)\n",
    "        fase = ((simbolo + k) % M) * k / M\n",
    "        chirp = (1 / np.sqrt(M)) * np.exp(1j * 2 * np.pi * fase)\n",
    "        chirps.append(chirp)\n",
    "\n",
    "    return np.array(chirps)  # matriz [N x M]\n",
    "\n",
    "\n"
   ],
   "id": "3fbf8b65e8910e26",
   "outputs": [],
   "execution_count": 12
  },
  {
   "metadata": {
    "ExecuteTime": {
     "end_time": "2025-06-25T00:15:52.751399Z",
     "start_time": "2025-06-25T00:15:52.623796Z"
    }
   },
   "cell_type": "code",
   "source": [
    "\n",
    "fase = np.unwrap(np.angle(chirp))\n",
    "frecuencia_inst = np.diff(fase) / (2 * np.pi)  # en ciclos por muestra\n",
    "\n",
    "plt.figure(figsize=(10, 3))\n",
    "plt.plot(frecuencia_inst)\n",
    "plt.title(\"Frecuencia Instantánea del Chirp\")\n",
    "plt.xlabel(\"Muestras\")\n",
    "plt.ylabel(\"Frecuencia [ciclos/muestra]\")\n",
    "plt.grid(True)\n",
    "plt.show()\n"
   ],
   "id": "36dab168b18be254",
   "outputs": [
    {
     "data": {
      "text/plain": [
       "<Figure size 1000x300 with 1 Axes>"
      ],
      "image/png": "[encoded data removed]"
     },
     "metadata": {},
     "output_type": "display_data"
    }
   ],
   "execution_count": 15
  },
  {
   "metadata": {},
   "cell_type": "markdown",
   "source": "### n-Tuple Former",
   "id": "12812d01f66366fd"
  },
  {
   "metadata": {
    "ExecuteTime": {
     "end_time": "2025-06-24T23:58:00.517604Z",
     "start_time": "2025-06-24T23:58:00.512237Z"
    }
   },
   "cell_type": "code",
   "source": [
    "def n_tuple_former(received_chirps, SF):\n",
    "    M = 2 ** SF\n",
    "    k = np.arange(M)\n",
    "    downchirp = np.exp(-1j * 2 * np.pi * k**2 / M)\n",
    "\n",
    "    simbolos_estimados = []\n",
    "    for chirp in received_chirps:\n",
    "        producto = chirp * downchirp\n",
    "        fft_producto = np.fft.fft(producto) #Es la Transformada Rápida de Fourier (FFT) en NumPy\n",
    "        simbolo_estimado = np.argmax(np.abs(fft_producto))\n",
    "        simbolos_estimados.append(simbolo_estimado)\n",
    "\n",
    "    return np.array(simbolos_estimados)\n"
   ],
   "id": "c5eacef02985f5ba",
   "outputs": [],
   "execution_count": 6
  },
  {
   "metadata": {
    "ExecuteTime": {
     "end_time": "2025-06-25T00:30:17.313733Z",
     "start_time": "2025-06-25T00:30:17.308931Z"
    }
   },
   "cell_type": "code",
   "source": [
    "# Definimos funciones de utilidad\n",
    "def errores_simbolos(s_tx, s_rx):\n",
    "    #Cuenta cuántos símbolos difieren entre dos listas\n",
    "    error = 0\n",
    "    for i, j in zip(s_tx, s_rx):\n",
    "        if i != j:\n",
    "            error += 1\n",
    "    return error\n",
    "\n",
    "def ser(s_tx, s_rx):\n",
    "    #\n",
    "    return errores_simbolos(s_tx, s_rx) / len(s_tx)\n"
   ],
   "id": "1cb79bf87c1b5b81",
   "outputs": [],
   "execution_count": 27
  },
  {
   "metadata": {
    "ExecuteTime": {
     "end_time": "2025-06-25T00:30:18.541248Z",
     "start_time": "2025-06-25T00:30:18.534680Z"
    }
   },
   "cell_type": "code",
   "source": [
    "SF = 7\n",
    "bit_randoms = np.random.randint(0, 2, SF * 2)  # 2 símbolos\n",
    "\n",
    "# Transmisor\n",
    "s_tx = coder(bit_randoms, SF)\n",
    "chirps_tx = waveform_former(s_tx, SF)\n",
    "\n",
    "# Receptor (sin canal)\n",
    "s_rx = n_tuple_former(chirps_tx, SF)\n",
    "\n",
    "# Calcular SER\n",
    "print(\"Símbolos transmitidos:\", s_tx[:10])\n",
    "print(\"Símbolos decodificados:\", s_rx[:10])\n",
    "print(\"SER:\", ser(s_tx, s_rx))"
   ],
   "id": "714b32cba944a7bc",
   "outputs": [
    {
     "name": "stdout",
     "output_type": "stream",
     "text": [
      "Símbolos transmitidos: [86 60]\n",
      "Símbolos decodificados: [86 60]\n",
      "SER: 0.0\n"
     ]
    }
   ],
   "execution_count": 28
  },
  {
   "metadata": {},
   "cell_type": "markdown",
   "source": "### Implementación del ruido AWGN",
   "id": "aaf793543cfa3081"
  },
  {
   "metadata": {
    "ExecuteTime": {
     "end_time": "2025-06-25T00:40:58.553920Z",
     "start_time": "2025-06-25T00:40:58.549237Z"
    }
   },
   "cell_type": "code",
   "source": [
    "def energia_promedio_chirp(chirps):\n",
    "    return np.mean(np.sum(np.abs(chirps)**2, axis=1))"
   ],
   "id": "b76aa281a4b1d07e",
   "outputs": [],
   "execution_count": 29
  },
  {
   "metadata": {
    "ExecuteTime": {
     "end_time": "2025-06-25T00:41:08.803368Z",
     "start_time": "2025-06-25T00:41:08.798585Z"
    }
   },
   "cell_type": "code",
   "source": [
    "def agregar_ruido_AWGN(chirps, SNR_dB):\n",
    "    M = chirps.shape[1]  # cantidad de muestras por chirp\n",
    "    SNR_linear = 10**(SNR_dB / 10)\n",
    "\n",
    "    Es = energia_promedio_chirp(chirps)\n",
    "    sigma2 = Es / (2 * SNR_linear)\n",
    "\n",
    "    ruido = np.sqrt(sigma2) * (np.random.randn(*chirps.shape) + 1j * np.random.randn(*chirps.shape))\n",
    "    return chirps + ruido"
   ],
   "id": "f9e7bc6f6f729d7b",
   "outputs": [],
   "execution_count": 30
  },
  {
   "metadata": {},
   "cell_type": "markdown",
   "source": [
    "## 🧪 Canal con Ruido AWGN y Curva BER/SER\n",
    "\n",
    "### AWGN (Additive White Gaussian Noise)\n",
    "Es un modelo de canal donde el ruido se suma a la señal transmitida:\n",
    "- Media: 0\n",
    "- Varianza: σ² = Eₛ / (2·SNRₗᵢₙₑₐᵣ)\n",
    "\n",
    "Donde:\n",
    "\n",
    "$\\begin{aligned}\n",
    "\\text{SNR}_{\\text{linear}} = 10^{\\frac{\\text{SNR}_{dB}}{10}}, \\quad\n",
    "\\sigma^2 = \\frac{E_s}{2 \\cdot \\text{SNR}_{\\text{linear}}}\n",
    "\\end{aligned}$\n",
    "\n",
    "\n",
    "\n",
    "### Procedimiento:\n",
    "1. Se genera una señal chirp (modulada) por símbolo.\n",
    "2. Se suma ruido Gaussiano complejo a la señal transmitida.\n",
    "3. Se decodifica usando n-Tuple Former + FFT.\n",
    "4. Se comparan los símbolos y bits originales con los decodificados.\n",
    "5. Se calcula y grafica:\n",
    "   - **BER**: tasa de error de bit.\n",
    "   - **SER**: tasa de error de símbolo."
   ],
   "id": "8b80afb802188150"
  }
 ],
 "metadata": {
  "kernelspec": {
   "display_name": "Python 3",
   "language": "python",
   "name": "python3"
  },
  "language_info": {
   "codemirror_mode": {
    "name": "ipython",
    "version": 2
   },
   "file_extension": ".py",
   "mimetype": "text/x-python",
   "name": "python",
   "nbconvert_exporter": "python",
   "pygments_lexer": "ipython2",
   "version": "2.7.6"
  }
 },
 "nbformat": 4,
 "nbformat_minor": 5
}
